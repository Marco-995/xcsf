{
 "cells": [
  {
   "cell_type": "markdown",
   "id": "f55aa93a",
   "metadata": {},
   "source": [
    "## This example demonstrates sklearn functions with XCSF"
   ]
  },
  {
   "cell_type": "code",
   "execution_count": 1,
   "id": "e8523c3e",
   "metadata": {},
   "outputs": [],
   "source": [
    "import json\n",
    "\n",
    "from sklearn.compose import TransformedTargetRegressor\n",
    "from sklearn.datasets import load_iris\n",
    "from sklearn.model_selection import GridSearchCV, cross_val_score, train_test_split\n",
    "from sklearn.pipeline import make_pipeline\n",
    "from sklearn.preprocessing import MinMaxScaler, StandardScaler\n",
    "\n",
    "import xcsf\n",
    "\n",
    "RANDOM_STATE: int = 1"
   ]
  },
  {
   "cell_type": "markdown",
   "id": "630b8381",
   "metadata": {},
   "source": [
    "### Load some test data"
   ]
  },
  {
   "cell_type": "code",
   "execution_count": 2,
   "id": "2a74091e",
   "metadata": {},
   "outputs": [],
   "source": [
    "iris = load_iris()\n",
    "\n",
    "X, y = iris.data, iris.target\n",
    "\n",
    "X_train, X_test, y_train, y_test = train_test_split(\n",
    "    X, y, test_size=0.2, random_state=RANDOM_STATE\n",
    ")"
   ]
  },
  {
   "cell_type": "markdown",
   "id": "cb14fca2",
   "metadata": {},
   "source": [
    "### Initialise XCSF"
   ]
  },
  {
   "cell_type": "code",
   "execution_count": 3,
   "id": "f558bdca",
   "metadata": {},
   "outputs": [
    {
     "name": "stdout",
     "output_type": "stream",
     "text": [
      "{\n",
      "    \"version\": \"1.3.0\",\n",
      "    \"x_dim\": 4,\n",
      "    \"y_dim\": 1,\n",
      "    \"n_actions\": 1,\n",
      "    \"omp_num_threads\": 12,\n",
      "    \"random_state\": 1,\n",
      "    \"population_file\": \"\",\n",
      "    \"pop_init\": true,\n",
      "    \"max_trials\": 20000,\n",
      "    \"perf_trials\": 5000,\n",
      "    \"pop_size\": 500,\n",
      "    \"loss_func\": \"mse\",\n",
      "    \"set_subsumption\": false,\n",
      "    \"theta_sub\": 100,\n",
      "    \"e0\": 0.005,\n",
      "    \"alpha\": 1,\n",
      "    \"nu\": 20,\n",
      "    \"beta\": 0.1,\n",
      "    \"delta\": 0.1,\n",
      "    \"theta_del\": 50,\n",
      "    \"init_fitness\": 0.01,\n",
      "    \"init_error\": 0,\n",
      "    \"m_probation\": 10000,\n",
      "    \"stateful\": true,\n",
      "    \"compaction\": false,\n",
      "    \"ea\": {\n",
      "        \"select_type\": \"roulette\",\n",
      "        \"theta_ea\": 50,\n",
      "        \"lambda\": 2,\n",
      "        \"p_crossover\": 0.8,\n",
      "        \"err_reduc\": 1,\n",
      "        \"fit_reduc\": 0.1,\n",
      "        \"subsumption\": false,\n",
      "        \"pred_reset\": false\n",
      "    },\n",
      "    \"condition\": {\n",
      "        \"type\": \"tree_gp\",\n",
      "        \"args\": {\n",
      "            \"min_constant\": 0,\n",
      "            \"max_constant\": 1,\n",
      "            \"n_constants\": 100,\n",
      "            \"init_depth\": 5,\n",
      "            \"max_len\": 10000\n",
      "        }\n",
      "    },\n",
      "    \"prediction\": {\n",
      "        \"type\": \"neural\",\n",
      "        \"args\": {\n",
      "            \"layer_0\": {\n",
      "                \"type\": \"connected\",\n",
      "                \"activation\": \"relu\",\n",
      "                \"n_inputs\": 4,\n",
      "                \"n_init\": 10,\n",
      "                \"evolve_weights\": true,\n",
      "                \"evolve_functions\": false,\n",
      "                \"evolve_connect\": true,\n",
      "                \"evolve_neurons\": false,\n",
      "                \"sgd_weights\": true,\n",
      "                \"eta\": 0.1,\n",
      "                \"evolve_eta\": true,\n",
      "                \"eta_min\": 1e-06,\n",
      "                \"momentum\": 0.9,\n",
      "                \"decay\": 0\n",
      "            },\n",
      "            \"layer_1\": {\n",
      "                \"type\": \"connected\",\n",
      "                \"activation\": \"softplus\",\n",
      "                \"n_inputs\": 10,\n",
      "                \"n_init\": 1,\n",
      "                \"evolve_weights\": true,\n",
      "                \"evolve_functions\": false,\n",
      "                \"evolve_connect\": true,\n",
      "                \"evolve_neurons\": false,\n",
      "                \"sgd_weights\": true,\n",
      "                \"eta\": 0.1,\n",
      "                \"evolve_eta\": true,\n",
      "                \"eta_min\": 1e-06,\n",
      "                \"momentum\": 0.9,\n",
      "                \"decay\": 0\n",
      "            }\n",
      "        }\n",
      "    }\n",
      "}\n"
     ]
    }
   ],
   "source": [
    "xcs = xcsf.XCS(\n",
    "    x_dim=4,\n",
    "    y_dim=1,\n",
    "    n_actions=1,\n",
    "    omp_num_threads=12,\n",
    "    random_state=RANDOM_STATE,\n",
    "    pop_init=True,\n",
    "    max_trials=20000,\n",
    "    perf_trials=5000,\n",
    "    pop_size=500,\n",
    "    loss_func=\"mse\",\n",
    "    set_subsumption=False,\n",
    "    theta_sub=100,\n",
    "    e0=0.005,\n",
    "    alpha=1,\n",
    "    nu=20,\n",
    "    beta=0.1,\n",
    "    delta=0.1,\n",
    "    theta_del=50,\n",
    "    init_fitness=0.01,\n",
    "    init_error=0,\n",
    "    m_probation=10000,\n",
    "    stateful=True,\n",
    "    compaction=False,\n",
    "    ea={\n",
    "        \"select_type\": \"roulette\",\n",
    "        \"theta_ea\": 50,\n",
    "        \"lambda\": 2,\n",
    "        \"p_crossover\": 0.8,\n",
    "        \"err_reduc\": 1,\n",
    "        \"fit_reduc\": 0.1,\n",
    "        \"subsumption\": False,\n",
    "        \"pred_reset\": False,\n",
    "    },\n",
    "    condition={\n",
    "        \"type\": \"tree_gp\",\n",
    "        \"args\": {\n",
    "            \"min_constant\": 0,\n",
    "            \"max_constant\": 1,\n",
    "            \"n_constants\": 100,\n",
    "            \"init_depth\": 5,\n",
    "            \"max_len\": 10000,\n",
    "        },\n",
    "    },\n",
    "    prediction={\n",
    "        \"type\": \"neural\",\n",
    "        \"args\": {\n",
    "            \"layer_0\": {\n",
    "                \"type\": \"connected\",\n",
    "                \"activation\": \"relu\",\n",
    "                \"n_init\": 10,\n",
    "                \"evolve_weights\": True,\n",
    "                \"evolve_functions\": False,\n",
    "                \"evolve_connect\": True,\n",
    "                \"evolve_neurons\": False,\n",
    "                \"sgd_weights\": True,\n",
    "                \"eta\": 0.1,\n",
    "                \"evolve_eta\": True,\n",
    "                \"eta_min\": 1e-06,\n",
    "                \"momentum\": 0.9,\n",
    "                \"decay\": 0,\n",
    "            },\n",
    "            \"layer_1\": {\n",
    "                \"type\": \"connected\",\n",
    "                \"activation\": \"softplus\",\n",
    "                \"n_init\": 1,\n",
    "                \"evolve_weights\": True,\n",
    "                \"evolve_functions\": False,\n",
    "                \"evolve_connect\": True,\n",
    "                \"evolve_neurons\": False,\n",
    "                \"sgd_weights\": True,\n",
    "                \"eta\": 0.1,\n",
    "                \"evolve_eta\": True,\n",
    "                \"eta_min\": 1e-06,\n",
    "                \"momentum\": 0.9,\n",
    "                \"decay\": 0,\n",
    "            },\n",
    "        },\n",
    "    },\n",
    ")\n",
    "\n",
    "print(json.dumps(xcs.internal_params(), indent=4))"
   ]
  },
  {
   "cell_type": "markdown",
   "id": "c5d0f63c",
   "metadata": {},
   "source": [
    "### Pipeline"
   ]
  },
  {
   "cell_type": "code",
   "execution_count": 4,
   "id": "ccf9209c",
   "metadata": {},
   "outputs": [
    {
     "name": "stdout",
     "output_type": "stream",
     "text": [
      "time=00:00:00.517 trials=0 train=0.55883 pset=500.00000 mset=299.3 mfrac=0.45\n",
      "time=00:00:00.821 trials=5000 train=0.52292 pset=500.00000 mset=329.6 mfrac=0.43\n",
      "time=00:00:01.115 trials=10000 train=0.54337 pset=500.00000 mset=381.4 mfrac=0.42\n",
      "time=00:00:01.483 trials=15000 train=0.53865 pset=500.00000 mset=368.8 mfrac=0.51\n",
      "time= 00:00:03.936\n"
     ]
    },
    {
     "data": {
      "text/html": [
       "<style>#sk-container-id-1 {color: black;}#sk-container-id-1 pre{padding: 0;}#sk-container-id-1 div.sk-toggleable {background-color: white;}#sk-container-id-1 label.sk-toggleable__label {cursor: pointer;display: block;width: 100%;margin-bottom: 0;padding: 0.3em;box-sizing: border-box;text-align: center;}#sk-container-id-1 label.sk-toggleable__label-arrow:before {content: \"▸\";float: left;margin-right: 0.25em;color: #696969;}#sk-container-id-1 label.sk-toggleable__label-arrow:hover:before {color: black;}#sk-container-id-1 div.sk-estimator:hover label.sk-toggleable__label-arrow:before {color: black;}#sk-container-id-1 div.sk-toggleable__content {max-height: 0;max-width: 0;overflow: hidden;text-align: left;background-color: #f0f8ff;}#sk-container-id-1 div.sk-toggleable__content pre {margin: 0.2em;color: black;border-radius: 0.25em;background-color: #f0f8ff;}#sk-container-id-1 input.sk-toggleable__control:checked~div.sk-toggleable__content {max-height: 200px;max-width: 100%;overflow: auto;}#sk-container-id-1 input.sk-toggleable__control:checked~label.sk-toggleable__label-arrow:before {content: \"▾\";}#sk-container-id-1 div.sk-estimator input.sk-toggleable__control:checked~label.sk-toggleable__label {background-color: #d4ebff;}#sk-container-id-1 div.sk-label input.sk-toggleable__control:checked~label.sk-toggleable__label {background-color: #d4ebff;}#sk-container-id-1 input.sk-hidden--visually {border: 0;clip: rect(1px 1px 1px 1px);clip: rect(1px, 1px, 1px, 1px);height: 1px;margin: -1px;overflow: hidden;padding: 0;position: absolute;width: 1px;}#sk-container-id-1 div.sk-estimator {font-family: monospace;background-color: #f0f8ff;border: 1px dotted black;border-radius: 0.25em;box-sizing: border-box;margin-bottom: 0.5em;}#sk-container-id-1 div.sk-estimator:hover {background-color: #d4ebff;}#sk-container-id-1 div.sk-parallel-item::after {content: \"\";width: 100%;border-bottom: 1px solid gray;flex-grow: 1;}#sk-container-id-1 div.sk-label:hover label.sk-toggleable__label {background-color: #d4ebff;}#sk-container-id-1 div.sk-serial::before {content: \"\";position: absolute;border-left: 1px solid gray;box-sizing: border-box;top: 0;bottom: 0;left: 50%;z-index: 0;}#sk-container-id-1 div.sk-serial {display: flex;flex-direction: column;align-items: center;background-color: white;padding-right: 0.2em;padding-left: 0.2em;position: relative;}#sk-container-id-1 div.sk-item {position: relative;z-index: 1;}#sk-container-id-1 div.sk-parallel {display: flex;align-items: stretch;justify-content: center;background-color: white;position: relative;}#sk-container-id-1 div.sk-item::before, #sk-container-id-1 div.sk-parallel-item::before {content: \"\";position: absolute;border-left: 1px solid gray;box-sizing: border-box;top: 0;bottom: 0;left: 50%;z-index: -1;}#sk-container-id-1 div.sk-parallel-item {display: flex;flex-direction: column;z-index: 1;position: relative;background-color: white;}#sk-container-id-1 div.sk-parallel-item:first-child::after {align-self: flex-end;width: 50%;}#sk-container-id-1 div.sk-parallel-item:last-child::after {align-self: flex-start;width: 50%;}#sk-container-id-1 div.sk-parallel-item:only-child::after {width: 0;}#sk-container-id-1 div.sk-dashed-wrapped {border: 1px dashed gray;margin: 0 0.4em 0.5em 0.4em;box-sizing: border-box;padding-bottom: 0.4em;background-color: white;}#sk-container-id-1 div.sk-label label {font-family: monospace;font-weight: bold;display: inline-block;line-height: 1.2em;}#sk-container-id-1 div.sk-label-container {text-align: center;}#sk-container-id-1 div.sk-container {/* jupyter's `normalize.less` sets `[hidden] { display: none; }` but bootstrap.min.css set `[hidden] { display: none !important; }` so we also need the `!important` here to be able to override the default hidden behavior on the sphinx rendered scikit-learn.org. See: https://github.com/scikit-learn/scikit-learn/issues/21755 */display: inline-block !important;position: relative;}#sk-container-id-1 div.sk-text-repr-fallback {display: none;}</style><div id=\"sk-container-id-1\" class=\"sk-top-container\"><div class=\"sk-text-repr-fallback\"><pre>Pipeline(steps=[(&#x27;minmaxscaler&#x27;, MinMaxScaler(feature_range=(-1.0, 1.0))),\n",
       "                (&#x27;transformedtargetregressor&#x27;,\n",
       "                 TransformedTargetRegressor(regressor=&lt;xcsf.xcsf.XCS object at 0x7f2e9c390970&gt;,\n",
       "                                            transformer=StandardScaler()))])</pre><b>In a Jupyter environment, please rerun this cell to show the HTML representation or trust the notebook. <br />On GitHub, the HTML representation is unable to render, please try loading this page with nbviewer.org.</b></div><div class=\"sk-container\" hidden><div class=\"sk-item sk-dashed-wrapped\"><div class=\"sk-label-container\"><div class=\"sk-label sk-toggleable\"><input class=\"sk-toggleable__control sk-hidden--visually\" id=\"sk-estimator-id-1\" type=\"checkbox\" ><label for=\"sk-estimator-id-1\" class=\"sk-toggleable__label sk-toggleable__label-arrow\">Pipeline</label><div class=\"sk-toggleable__content\"><pre>Pipeline(steps=[(&#x27;minmaxscaler&#x27;, MinMaxScaler(feature_range=(-1.0, 1.0))),\n",
       "                (&#x27;transformedtargetregressor&#x27;,\n",
       "                 TransformedTargetRegressor(regressor=&lt;xcsf.xcsf.XCS object at 0x7f2e9c390970&gt;,\n",
       "                                            transformer=StandardScaler()))])</pre></div></div></div><div class=\"sk-serial\"><div class=\"sk-item\"><div class=\"sk-estimator sk-toggleable\"><input class=\"sk-toggleable__control sk-hidden--visually\" id=\"sk-estimator-id-2\" type=\"checkbox\" ><label for=\"sk-estimator-id-2\" class=\"sk-toggleable__label sk-toggleable__label-arrow\">MinMaxScaler</label><div class=\"sk-toggleable__content\"><pre>MinMaxScaler(feature_range=(-1.0, 1.0))</pre></div></div></div><div class=\"sk-item sk-dashed-wrapped\"><div class=\"sk-label-container\"><div class=\"sk-label sk-toggleable\"><input class=\"sk-toggleable__control sk-hidden--visually\" id=\"sk-estimator-id-3\" type=\"checkbox\" ><label for=\"sk-estimator-id-3\" class=\"sk-toggleable__label sk-toggleable__label-arrow\">transformedtargetregressor: TransformedTargetRegressor</label><div class=\"sk-toggleable__content\"><pre>TransformedTargetRegressor(regressor=&lt;xcsf.xcsf.XCS object at 0x7f2e9c390970&gt;,\n",
       "                           transformer=StandardScaler())</pre></div></div></div><div class=\"sk-parallel\"><div class=\"sk-parallel-item\"><div class=\"sk-item\"><div class=\"sk-label-container\"><div class=\"sk-label sk-toggleable\"><input class=\"sk-toggleable__control sk-hidden--visually\" id=\"sk-estimator-id-4\" type=\"checkbox\" ><label for=\"sk-estimator-id-4\" class=\"sk-toggleable__label sk-toggleable__label-arrow\">regressor: XCS</label><div class=\"sk-toggleable__content\"><pre>&lt;xcsf.xcsf.XCS object at 0x7f2e9c390970&gt;</pre></div></div></div><div class=\"sk-serial\"><div class=\"sk-item\"><div class=\"sk-estimator sk-toggleable\"><input class=\"sk-toggleable__control sk-hidden--visually\" id=\"sk-estimator-id-5\" type=\"checkbox\" ><label for=\"sk-estimator-id-5\" class=\"sk-toggleable__label sk-toggleable__label-arrow\">XCS</label><div class=\"sk-toggleable__content\"><pre>&lt;xcsf.xcsf.XCS object at 0x7f2e9c390970&gt;</pre></div></div></div></div></div></div><div class=\"sk-parallel-item\"><div class=\"sk-item\"><div class=\"sk-label-container\"><div class=\"sk-label sk-toggleable\"><input class=\"sk-toggleable__control sk-hidden--visually\" id=\"sk-estimator-id-6\" type=\"checkbox\" ><label for=\"sk-estimator-id-6\" class=\"sk-toggleable__label sk-toggleable__label-arrow\">transformer: StandardScaler</label><div class=\"sk-toggleable__content\"><pre>StandardScaler()</pre></div></div></div><div class=\"sk-serial\"><div class=\"sk-item\"><div class=\"sk-estimator sk-toggleable\"><input class=\"sk-toggleable__control sk-hidden--visually\" id=\"sk-estimator-id-7\" type=\"checkbox\" ><label for=\"sk-estimator-id-7\" class=\"sk-toggleable__label sk-toggleable__label-arrow\">StandardScaler</label><div class=\"sk-toggleable__content\"><pre>StandardScaler()</pre></div></div></div></div></div></div></div></div></div></div></div></div>"
      ],
      "text/plain": [
       "Pipeline(steps=[('minmaxscaler', MinMaxScaler(feature_range=(-1.0, 1.0))),\n",
       "                ('transformedtargetregressor',\n",
       "                 TransformedTargetRegressor(regressor=<xcsf.xcsf.XCS object at 0x7f2e9c390970>,\n",
       "                                            transformer=StandardScaler()))])"
      ]
     },
     "execution_count": 4,
     "metadata": {},
     "output_type": "execute_result"
    }
   ],
   "source": [
    "model = make_pipeline(\n",
    "    MinMaxScaler(feature_range=(-1.0, 1.0)),\n",
    "    TransformedTargetRegressor(regressor=xcs, transformer=StandardScaler()),\n",
    ")\n",
    "\n",
    "model.fit(X_train, y_train)"
   ]
  },
  {
   "cell_type": "code",
   "execution_count": 5,
   "id": "269c3473",
   "metadata": {},
   "outputs": [
    {
     "name": "stdout",
     "output_type": "stream",
     "text": [
      "train=0.47395139609962555\n",
      "test=0.1923957449261129\n"
     ]
    }
   ],
   "source": [
    "y_pred = model.predict(X_test)\n",
    "\n",
    "train_score = model.score(X_train, y_train)\n",
    "test_score = model.score(X_test, y_test)\n",
    "\n",
    "print(f\"train={train_score}\")\n",
    "print(f\"test={test_score}\")"
   ]
  },
  {
   "cell_type": "markdown",
   "id": "2a1f3b0e",
   "metadata": {},
   "source": [
    "### Grid search"
   ]
  },
  {
   "cell_type": "markdown",
   "id": "803cf204",
   "metadata": {},
   "source": [
    "General parameters can be searched in the usual way:"
   ]
  },
  {
   "cell_type": "code",
   "execution_count": 6,
   "id": "f635bc9f",
   "metadata": {
    "scrolled": true
   },
   "outputs": [
    {
     "name": "stdout",
     "output_type": "stream",
     "text": [
      "time=00:00:00.531 trials=0 train=0.39568 pset=500.00000 mset=320.2 mfrac=0.92\n",
      "time=00:00:01.367 trials=5000 train=0.19487 pset=500.00000 mset=340.8 mfrac=1.00\n",
      "time=00:00:01.970 trials=10000 train=0.12159 pset=500.00000 mset=429.8 mfrac=1.00\n",
      "time=00:00:01.290 trials=15000 train=0.10896 pset=500.00000 mset=449.5 mfrac=1.00\n",
      "time= 00:00:05.158\n",
      "time=00:00:00.508 trials=0 train=0.22713 pset=500.00000 mset=306.6 mfrac=1.00\n",
      "time=00:00:01.520 trials=5000 train=0.10082 pset=500.00000 mset=355.1 mfrac=1.00\n",
      "time=00:00:02.399 trials=10000 train=0.06190 pset=500.00000 mset=454.3 mfrac=1.00\n",
      "time=00:00:01.923 trials=15000 train=0.05060 pset=500.00000 mset=453.0 mfrac=1.00\n",
      "time= 00:00:06.350\n",
      "time=00:00:00.510 trials=0 train=0.33291 pset=500.00000 mset=306.4 mfrac=1.00\n",
      "time=00:00:01.338 trials=5000 train=0.12201 pset=500.00000 mset=341.5 mfrac=1.00\n",
      "time=00:00:01.972 trials=10000 train=0.06691 pset=500.00000 mset=436.4 mfrac=1.00\n",
      "time=00:00:02.104 trials=15000 train=0.05034 pset=500.00000 mset=437.0 mfrac=1.00\n",
      "time= 00:00:05.924\n",
      "time=00:00:00.516 trials=0 train=0.43041 pset=500.00000 mset=306.8 mfrac=1.00\n",
      "time=00:00:01.328 trials=5000 train=0.18669 pset=500.00000 mset=329.3 mfrac=1.00\n",
      "time=00:00:03.574 trials=10000 train=0.12112 pset=500.00000 mset=416.9 mfrac=1.00\n",
      "time=00:00:02.644 trials=15000 train=0.09521 pset=500.00000 mset=443.3 mfrac=1.00\n",
      "time= 00:00:08.062\n",
      "time=00:00:00.689 trials=0 train=0.23963 pset=500.00000 mset=282.0 mfrac=1.00\n",
      "time=00:00:04.422 trials=5000 train=0.08605 pset=500.00000 mset=302.0 mfrac=1.00\n",
      "time=00:00:02.501 trials=10000 train=0.05450 pset=500.00000 mset=439.0 mfrac=1.00\n",
      "time=00:00:02.281 trials=15000 train=0.03930 pset=500.00000 mset=447.0 mfrac=1.00\n",
      "time= 00:00:09.893\n",
      "time=00:00:00.758 trials=0 train=0.11904 pset=500.00000 mset=241.0 mfrac=0.99\n",
      "time=00:00:01.293 trials=5000 train=0.05344 pset=500.00000 mset=219.3 mfrac=0.53\n",
      "time=00:00:02.864 trials=10000 train=0.04968 pset=500.00000 mset=396.8 mfrac=1.00\n",
      "time=00:00:02.093 trials=15000 train=0.04756 pset=500.00000 mset=428.4 mfrac=0.91\n",
      "time= 00:00:07.008\n",
      "time=00:00:00.630 trials=0 train=0.10540 pset=500.00000 mset=216.1 mfrac=0.45\n",
      "time=00:00:01.297 trials=5000 train=0.04946 pset=500.00000 mset=196.4 mfrac=0.56\n",
      "time=00:00:01.066 trials=10000 train=0.03964 pset=500.00000 mset=367.3 mfrac=1.00\n",
      "time=00:00:01.355 trials=15000 train=0.03977 pset=500.00000 mset=402.3 mfrac=0.98\n",
      "time= 00:00:04.348\n",
      "time=00:00:00.829 trials=0 train=0.12845 pset=500.00000 mset=249.0 mfrac=1.00\n",
      "time=00:00:01.508 trials=5000 train=0.05443 pset=500.00000 mset=242.5 mfrac=0.20\n",
      "time=00:00:01.954 trials=10000 train=0.04250 pset=500.00000 mset=397.9 mfrac=0.98\n",
      "time=00:00:05.018 trials=15000 train=0.04018 pset=500.00000 mset=402.4 mfrac=0.90\n",
      "time= 00:00:09.309\n",
      "time=00:00:01.380 trials=0 train=0.11490 pset=500.00000 mset=241.0 mfrac=1.00\n",
      "time=00:00:01.536 trials=5000 train=0.05505 pset=500.00000 mset=242.0 mfrac=1.00\n",
      "time=00:00:02.144 trials=10000 train=0.04844 pset=500.00000 mset=410.0 mfrac=1.00\n",
      "time=00:00:02.527 trials=15000 train=0.04337 pset=500.00000 mset=456.0 mfrac=1.00\n",
      "time= 00:00:07.587\n",
      "time=00:00:00.731 trials=0 train=0.12124 pset=500.00000 mset=245.0 mfrac=1.00\n",
      "time=00:00:01.640 trials=5000 train=0.04047 pset=500.00000 mset=220.3 mfrac=0.31\n",
      "time=00:00:02.705 trials=10000 train=0.03477 pset=500.00000 mset=362.2 mfrac=0.85\n",
      "time=00:00:03.447 trials=15000 train=0.03083 pset=500.00000 mset=372.0 mfrac=0.50\n",
      "time= 00:00:08.523\n",
      "time=00:00:00.631 trials=0 train=0.12503 pset=500.00000 mset=246.0 mfrac=1.00\n",
      "time=00:00:01.186 trials=5000 train=0.05035 pset=500.00000 mset=227.0 mfrac=1.00\n",
      "time=00:00:01.090 trials=10000 train=0.04794 pset=500.00000 mset=391.7 mfrac=1.00\n",
      "time=00:00:01.389 trials=15000 train=0.04190 pset=500.00000 mset=432.2 mfrac=0.96\n",
      "time= 00:00:04.296\n",
      "Mean Score: 0.0773105936895539\n",
      "Standard Deviation: 0.05643648702741442\n",
      "Parameters: {'beta': 0.1}\n",
      "------------------------\n",
      "Mean Score: 0.04086965197506629\n",
      "Standard Deviation: 0.021463709532932352\n",
      "Parameters: {'beta': 0.5}\n",
      "------------------------\n",
      "Best parameters:  {'beta': 0.5}\n",
      "Best score:  0.04086965197506629\n"
     ]
    }
   ],
   "source": [
    "parameters = {\"beta\": [0.1, 0.5]}\n",
    "\n",
    "grid_search = GridSearchCV(xcs, parameters, scoring=\"neg_mean_squared_error\")\n",
    "\n",
    "grid_search.fit(X_train, y_train)\n",
    "\n",
    "results = grid_search.cv_results_\n",
    "\n",
    "for mean_score, std_score, params in zip(\n",
    "    results[\"mean_test_score\"], results[\"std_test_score\"], results[\"params\"]\n",
    "):\n",
    "    print(\"Mean Score:\", -mean_score)\n",
    "    print(\"Standard Deviation:\", std_score)\n",
    "    print(\"Parameters:\", params)\n",
    "    print(\"------------------------\")\n",
    "\n",
    "print(\"Best parameters: \", grid_search.best_params_)\n",
    "print(\"Best score: \", -grid_search.best_score_)"
   ]
  },
  {
   "cell_type": "markdown",
   "id": "35388c08",
   "metadata": {},
   "source": [
    "EA parameters require specifying a dict, but individual values can still be set \n",
    "because the other values are still initialised to their default values."
   ]
  },
  {
   "cell_type": "code",
   "execution_count": 7,
   "id": "421e4032",
   "metadata": {},
   "outputs": [],
   "source": [
    "parameters = {\"ea\": [{\"lambda\": 2}, {\"lambda\": 10}, {\"lambda\": 50}]}"
   ]
  },
  {
   "cell_type": "markdown",
   "id": "4e74ebe7",
   "metadata": {},
   "source": [
    "However, for actions, conditions, and predictions, the WHOLE dict must be specified\n",
    "for each value to try in the search. This is because of the way XCSF uses kwargs to\n",
    "initialise values and they are reset each time. XCSF has so many different parameters\n",
    "that it is unfortunately necessary to do it this way."
   ]
  },
  {
   "cell_type": "code",
   "execution_count": 8,
   "id": "632d91d7",
   "metadata": {},
   "outputs": [],
   "source": [
    "parameters = {}"
   ]
  }
 ],
 "metadata": {
  "kernelspec": {
   "display_name": "Python 3 (ipykernel)",
   "language": "python",
   "name": "python3"
  },
  "language_info": {
   "codemirror_mode": {
    "name": "ipython",
    "version": 3
   },
   "file_extension": ".py",
   "mimetype": "text/x-python",
   "name": "python",
   "nbconvert_exporter": "python",
   "pygments_lexer": "ipython3",
   "version": "3.10.6"
  }
 },
 "nbformat": 4,
 "nbformat_minor": 5
}
