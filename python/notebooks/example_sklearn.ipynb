{
 "cells": [
  {
   "cell_type": "markdown",
   "id": "f55aa93a",
   "metadata": {},
   "source": [
    "## This example demonstrates sklearn functions with XCSF"
   ]
  },
  {
   "cell_type": "code",
   "execution_count": 1,
   "id": "e8523c3e",
   "metadata": {},
   "outputs": [],
   "source": [
    "import json\n",
    "\n",
    "from sklearn.compose import TransformedTargetRegressor\n",
    "from sklearn.datasets import load_iris\n",
    "from sklearn.model_selection import GridSearchCV, cross_val_score, train_test_split\n",
    "from sklearn.pipeline import make_pipeline\n",
    "from sklearn.preprocessing import MinMaxScaler, StandardScaler\n",
    "from optuna.integration import OptunaSearchCV\n",
    "import optuna\n",
    "from optuna.distributions import FloatDistribution\n",
    "\n",
    "import xcsf\n",
    "\n",
    "RANDOM_STATE: int = 1"
   ]
  },
  {
   "cell_type": "markdown",
   "id": "630b8381",
   "metadata": {},
   "source": [
    "### Load some test data"
   ]
  },
  {
   "cell_type": "code",
   "execution_count": 2,
   "id": "2a74091e",
   "metadata": {},
   "outputs": [],
   "source": [
    "iris = load_iris()\n",
    "\n",
    "X, y = iris.data, iris.target\n",
    "\n",
    "X_train, X_test, y_train, y_test = train_test_split(\n",
    "    X, y, test_size=0.2, random_state=RANDOM_STATE\n",
    ")\n",
    "\n",
    "X_train, X_val, y_train, y_val = train_test_split(\n",
    "    X_train, y_train, test_size=0.1, random_state=RANDOM_STATE\n",
    ")"
   ]
  },
  {
   "cell_type": "markdown",
   "id": "cb14fca2",
   "metadata": {},
   "source": [
    "### Initialise XCSF"
   ]
  },
  {
   "cell_type": "code",
   "execution_count": 3,
   "id": "f558bdca",
   "metadata": {},
   "outputs": [],
   "source": [
    "def get_model():\n",
    "    \"\"\"Returns a new XCS with baseline parameters.\"\"\"\n",
    "    return xcsf.XCS(\n",
    "        x_dim=4,\n",
    "        y_dim=1,\n",
    "        n_actions=1,\n",
    "        omp_num_threads=12,\n",
    "        random_state=RANDOM_STATE,\n",
    "        pop_init=True,\n",
    "        max_trials=20000,\n",
    "        perf_trials=5000,\n",
    "        pop_size=500,\n",
    "        loss_func=\"mse\",\n",
    "        set_subsumption=False,\n",
    "        theta_sub=100,\n",
    "        e0=0.005,\n",
    "        alpha=1,\n",
    "        nu=20,\n",
    "        beta=0.1,\n",
    "        delta=0.1,\n",
    "        theta_del=50,\n",
    "        init_fitness=0.01,\n",
    "        init_error=0,\n",
    "        m_probation=10000,\n",
    "        stateful=True,\n",
    "        compaction=False,\n",
    "        ea={\n",
    "            \"select_type\": \"roulette\",\n",
    "            \"theta_ea\": 50,\n",
    "            \"lambda\": 2,\n",
    "            \"p_crossover\": 0.8,\n",
    "            \"err_reduc\": 1,\n",
    "            \"fit_reduc\": 0.1,\n",
    "            \"subsumption\": False,\n",
    "            \"pred_reset\": False,\n",
    "        },\n",
    "        condition={\n",
    "            \"type\": \"tree_gp\",\n",
    "            \"args\": {\n",
    "                \"min_constant\": 0,\n",
    "                \"max_constant\": 1,\n",
    "                \"n_constants\": 100,\n",
    "                \"init_depth\": 5,\n",
    "                \"max_len\": 10000,\n",
    "            },\n",
    "        },\n",
    "        prediction={\n",
    "            \"type\": \"neural\",\n",
    "            \"args\": {\n",
    "                \"layer_0\": {\n",
    "                    \"type\": \"connected\",\n",
    "                    \"activation\": \"relu\",\n",
    "                    \"n_init\": 10,\n",
    "                    \"evolve_weights\": True,\n",
    "                    \"evolve_functions\": False,\n",
    "                    \"evolve_connect\": True,\n",
    "                    \"evolve_neurons\": False,\n",
    "                    \"sgd_weights\": True,\n",
    "                    \"eta\": 0.1,\n",
    "                    \"evolve_eta\": True,\n",
    "                    \"eta_min\": 1e-06,\n",
    "                    \"momentum\": 0.9,\n",
    "                    \"decay\": 0,\n",
    "                },\n",
    "                \"layer_1\": {\n",
    "                    \"type\": \"connected\",\n",
    "                    \"activation\": \"softplus\",\n",
    "                    \"n_init\": 1,\n",
    "                    \"evolve_weights\": True,\n",
    "                    \"evolve_functions\": False,\n",
    "                    \"evolve_connect\": True,\n",
    "                    \"evolve_neurons\": False,\n",
    "                    \"sgd_weights\": True,\n",
    "                    \"eta\": 0.1,\n",
    "                    \"evolve_eta\": True,\n",
    "                    \"eta_min\": 1e-06,\n",
    "                    \"momentum\": 0.9,\n",
    "                    \"decay\": 0,\n",
    "                },\n",
    "            },\n",
    "        },\n",
    "    )"
   ]
  },
  {
   "cell_type": "code",
   "execution_count": 4,
   "id": "14002622",
   "metadata": {},
   "outputs": [],
   "source": [
    "def get_callback():\n",
    "    \"\"\"Returns a new callback for early stoppping.\"\"\"\n",
    "    return xcsf.EarlyStoppingCallback(\n",
    "        # note: PERF_TRIALS is considered an \"epoch\" for callbacks\n",
    "        monitor=\"val\",  # which metric to monitor: {\"train\", \"val\"}\n",
    "        patience=20000,  # trials with no improvement after which training will be stopped\n",
    "        restore_best=True,  # whether to make checkpoints and restore best population\n",
    "        min_delta=0,  # minimum change to qualify as an improvement\n",
    "        start_from=0,  # trials to wait before starting to monitor improvement\n",
    "        verbose=True,  # whether to display when checkpoints are made\n",
    "    )"
   ]
  },
  {
   "cell_type": "code",
   "execution_count": 5,
   "id": "884431b2",
   "metadata": {},
   "outputs": [
    {
     "name": "stderr",
     "output_type": "stream",
     "text": [
      "[I 2023-07-17 15:49:53,095] A new study created in memory with name: no-name-79014d49-bf08-4d1c-970a-b07e57f1ca8b\n"
     ]
    },
    {
     "name": "stdout",
     "output_type": "stream",
     "text": [
      "beta=0.14395415563340805\n",
      "time=00:00:00.344 trials=0 train=0.22003 val=0.30028 pset=500.00000 mset=293.8 mfrac=1.00\n",
      "checkpoint: 0.30028 error at 0 trials\n",
      "time=00:00:00.894 trials=5000 train=0.07788 val=0.03227 pset=500.00000 mset=326.7 mfrac=1.00\n",
      "checkpoint: 0.03227 error at 5000 trials\n",
      "time=00:00:00.723 trials=10000 train=0.05583 val=0.04993 pset=500.00000 mset=449.0 mfrac=1.00\n"
     ]
    },
    {
     "name": "stderr",
     "output_type": "stream",
     "text": [
      "[I 2023-07-17 15:49:55,871] Trial 0 finished with value: 0.03227214526766292 and parameters: {'beta': 0.14395415563340805}. Best is trial 0 with value: 0.03227214526766292.\n"
     ]
    },
    {
     "name": "stdout",
     "output_type": "stream",
     "text": [
      "time=00:00:00.791 trials=15000 train=0.04837 val=0.03671 pset=500.00000 mset=456.0 mfrac=1.00\n",
      "restoring system from trial 5000 with error=0.03227\n",
      "time=00:00:02.752\n",
      "beta=0.1890095512038968\n",
      "time=00:00:00.680 trials=0 train=0.19567 val=0.32069 pset=500.00000 mset=296.1 mfrac=1.00\n",
      "checkpoint: 0.32069 error at 0 trials\n",
      "time=00:00:01.272 trials=5000 train=0.08042 val=0.03013 pset=500.00000 mset=304.8 mfrac=1.00\n",
      "checkpoint: 0.03013 error at 5000 trials\n",
      "time=00:00:01.748 trials=10000 train=0.06615 val=0.03168 pset=500.00000 mset=413.8 mfrac=1.00\n"
     ]
    },
    {
     "name": "stderr",
     "output_type": "stream",
     "text": [
      "[I 2023-07-17 15:50:01,639] Trial 1 finished with value: 0.03013401109965067 and parameters: {'beta': 0.1890095512038968}. Best is trial 1 with value: 0.03013401109965067.\n"
     ]
    },
    {
     "name": "stdout",
     "output_type": "stream",
     "text": [
      "time=00:00:02.043 trials=15000 train=0.04841 val=0.05052 pset=500.00000 mset=403.9 mfrac=1.00\n",
      "restoring system from trial 5000 with error=0.03013\n",
      "time=00:00:05.743\n",
      "beta=0.17993456764233962\n",
      "time=00:00:00.502 trials=0 train=0.21508 val=0.03500 pset=500.00000 mset=272.7 mfrac=1.00\n",
      "checkpoint: 0.03500 error at 0 trials\n",
      "time=00:00:01.005 trials=5000 train=0.08404 val=0.06242 pset=500.00000 mset=292.6 mfrac=1.00\n",
      "time=00:00:01.423 trials=10000 train=0.05073 val=0.05439 pset=500.00000 mset=416.7 mfrac=1.00\n"
     ]
    },
    {
     "name": "stderr",
     "output_type": "stream",
     "text": [
      "[I 2023-07-17 15:50:06,191] Trial 2 finished with value: 0.035003309605710235 and parameters: {'beta': 0.17993456764233962}. Best is trial 1 with value: 0.03013401109965067.\n"
     ]
    },
    {
     "name": "stdout",
     "output_type": "stream",
     "text": [
      "time=00:00:01.597 trials=15000 train=0.04267 val=0.04877 pset=500.00000 mset=424.0 mfrac=1.00\n",
      "restoring system from trial 0 with error=0.03500\n",
      "time=00:00:04.527\n",
      "beta=0.1684052625817733\n",
      "time=00:00:01.096 trials=0 train=0.18945 val=0.04041 pset=500.00000 mset=274.8 mfrac=1.00\n",
      "checkpoint: 0.04041 error at 0 trials\n",
      "time=00:00:00.836 trials=5000 train=0.07801 val=0.06287 pset=500.00000 mset=294.6 mfrac=1.00\n",
      "time=00:00:00.847 trials=10000 train=0.05817 val=0.04339 pset=500.00000 mset=435.1 mfrac=0.62\n"
     ]
    },
    {
     "name": "stderr",
     "output_type": "stream",
     "text": [
      "[I 2023-07-17 15:50:09,756] Trial 3 finished with value: 0.04040838163912596 and parameters: {'beta': 0.1684052625817733}. Best is trial 1 with value: 0.03013401109965067.\n"
     ]
    },
    {
     "name": "stdout",
     "output_type": "stream",
     "text": [
      "time=00:00:00.761 trials=15000 train=0.04399 val=0.05816 pset=500.00000 mset=440.4 mfrac=0.41\n",
      "restoring system from trial 0 with error=0.04041\n",
      "time=00:00:03.540\n",
      "beta=0.48463133198172037\n",
      "time=00:00:00.781 trials=0 train=0.10707 val=0.09982 pset=500.00000 mset=256.0 mfrac=1.00\n",
      "checkpoint: 0.09982 error at 0 trials\n",
      "time=00:00:00.809 trials=5000 train=0.04817 val=0.04809 pset=500.00000 mset=268.0 mfrac=1.00\n",
      "checkpoint: 0.04809 error at 5000 trials\n",
      "time=00:00:01.562 trials=10000 train=0.04098 val=0.05743 pset=500.00000 mset=433.1 mfrac=1.00\n"
     ]
    },
    {
     "name": "stderr",
     "output_type": "stream",
     "text": [
      "[I 2023-07-17 15:50:14,430] Trial 4 finished with value: 0.03859500180253875 and parameters: {'beta': 0.48463133198172037}. Best is trial 1 with value: 0.03013401109965067.\n"
     ]
    },
    {
     "name": "stdout",
     "output_type": "stream",
     "text": [
      "time=00:00:01.496 trials=15000 train=0.04268 val=0.03860 pset=500.00000 mset=436.1 mfrac=1.00\n",
      "checkpoint: 0.03860 error at 15000 trials\n",
      "restoring system from trial 15000 with error=0.03860\n",
      "time=00:00:04.648\n",
      "beta=0.13694438043559895\n",
      "time=00:00:01.306 trials=0 train=0.25909 val=0.22109 pset=500.00000 mset=290.7 mfrac=1.00\n",
      "checkpoint: 0.22109 error at 0 trials\n",
      "time=00:00:01.151 trials=5000 train=0.09988 val=0.04135 pset=500.00000 mset=326.7 mfrac=1.00\n",
      "checkpoint: 0.04135 error at 5000 trials\n",
      "time=00:00:02.292 trials=10000 train=0.06642 val=0.07305 pset=500.00000 mset=439.8 mfrac=1.00\n"
     ]
    },
    {
     "name": "stderr",
     "output_type": "stream",
     "text": [
      "[I 2023-07-17 15:50:21,202] Trial 5 finished with value: 0.04134682712854132 and parameters: {'beta': 0.13694438043559895}. Best is trial 1 with value: 0.03013401109965067.\n"
     ]
    },
    {
     "name": "stdout",
     "output_type": "stream",
     "text": [
      "time=00:00:01.996 trials=15000 train=0.05711 val=0.04157 pset=500.00000 mset=444.0 mfrac=1.00\n",
      "restoring system from trial 5000 with error=0.04135\n",
      "time=00:00:06.745\n",
      "beta=0.31198979313677566\n",
      "time=00:00:00.480 trials=0 train=0.14040 val=0.05020 pset=500.00000 mset=264.0 mfrac=1.00\n",
      "checkpoint: 0.05020 error at 0 trials\n",
      "time=00:00:01.309 trials=5000 train=0.05718 val=0.06508 pset=500.00000 mset=271.0 mfrac=1.00\n",
      "time=00:00:01.818 trials=10000 train=0.04092 val=0.04611 pset=500.00000 mset=423.0 mfrac=1.00\n",
      "checkpoint: 0.04611 error at 10000 trials\n"
     ]
    },
    {
     "name": "stderr",
     "output_type": "stream",
     "text": [
      "[I 2023-07-17 15:50:26,733] Trial 6 finished with value: 0.04610690634769169 and parameters: {'beta': 0.31198979313677566}. Best is trial 1 with value: 0.03013401109965067.\n"
     ]
    },
    {
     "name": "stdout",
     "output_type": "stream",
     "text": [
      "time=00:00:01.895 trials=15000 train=0.03324 val=0.10908 pset=500.00000 mset=415.0 mfrac=1.00\n",
      "restoring system from trial 10000 with error=0.04611\n",
      "time=00:00:05.502\n",
      "beta=0.17139615568650593\n",
      "time=00:00:00.635 trials=0 train=0.27020 val=0.24712 pset=500.00000 mset=295.3 mfrac=1.00\n",
      "checkpoint: 0.24712 error at 0 trials\n",
      "time=00:00:01.050 trials=5000 train=0.08431 val=0.03608 pset=500.00000 mset=301.6 mfrac=0.32\n",
      "checkpoint: 0.03608 error at 5000 trials\n",
      "time=00:00:01.504 trials=10000 train=0.05106 val=0.05610 pset=500.00000 mset=398.1 mfrac=0.33\n"
     ]
    },
    {
     "name": "stderr",
     "output_type": "stream",
     "text": [
      "[I 2023-07-17 15:50:30,839] Trial 7 finished with value: 0.03607636179234298 and parameters: {'beta': 0.17139615568650593}. Best is trial 1 with value: 0.03013401109965067.\n"
     ]
    },
    {
     "name": "stdout",
     "output_type": "stream",
     "text": [
      "time=00:00:00.889 trials=15000 train=0.03585 val=0.06434 pset=500.00000 mset=353.8 mfrac=0.40\n",
      "restoring system from trial 5000 with error=0.03608\n",
      "time=00:00:04.078\n",
      "beta=0.4254319658900404\n",
      "time=00:00:01.159 trials=0 train=0.12779 val=0.06376 pset=500.00000 mset=238.6 mfrac=0.34\n",
      "checkpoint: 0.06376 error at 0 trials\n",
      "time=00:00:00.841 trials=5000 train=0.05055 val=0.03591 pset=500.00000 mset=214.3 mfrac=1.00\n",
      "checkpoint: 0.03591 error at 5000 trials\n",
      "time=00:00:01.446 trials=10000 train=0.03874 val=0.05622 pset=500.00000 mset=376.1 mfrac=0.45\n"
     ]
    },
    {
     "name": "stderr",
     "output_type": "stream",
     "text": [
      "[I 2023-07-17 15:50:35,919] Trial 8 finished with value: 0.034470714074061166 and parameters: {'beta': 0.4254319658900404}. Best is trial 1 with value: 0.03013401109965067.\n"
     ]
    },
    {
     "name": "stdout",
     "output_type": "stream",
     "text": [
      "time=00:00:01.610 trials=15000 train=0.04114 val=0.03447 pset=500.00000 mset=400.9 mfrac=0.46\n",
      "checkpoint: 0.03447 error at 15000 trials\n",
      "restoring system from trial 15000 with error=0.03447\n",
      "time=00:00:05.056\n",
      "beta=0.499600412705061\n",
      "time=00:00:00.688 trials=0 train=0.10966 val=0.03047 pset=500.00000 mset=237.0 mfrac=1.00\n",
      "checkpoint: 0.03047 error at 0 trials\n",
      "time=00:00:00.871 trials=5000 train=0.04880 val=0.03231 pset=500.00000 mset=213.4 mfrac=1.00\n",
      "time=00:00:01.506 trials=10000 train=0.04552 val=0.09821 pset=500.00000 mset=374.2 mfrac=0.30\n"
     ]
    },
    {
     "name": "stderr",
     "output_type": "stream",
     "text": [
      "[I 2023-07-17 15:50:40,363] Trial 9 finished with value: 0.03046689607147471 and parameters: {'beta': 0.49960041270506095}. Best is trial 1 with value: 0.03013401109965067.\n"
     ]
    },
    {
     "name": "stdout",
     "output_type": "stream",
     "text": [
      "time=00:00:01.355 trials=15000 train=0.04546 val=0.04840 pset=500.00000 mset=406.8 mfrac=0.28\n",
      "restoring system from trial 0 with error=0.03047\n",
      "time=00:00:04.420\n"
     ]
    }
   ],
   "source": [
    "parameters = {\"beta\": [0.1, 0.5]}\n",
    "\n",
    "\n",
    "def objective(trial):\n",
    "    \"\"\"Measure a new hyperparameter combination.\"\"\"\n",
    "\n",
    "    beta = trial.suggest_float(\"beta\", 0.1, 0.5)\n",
    "\n",
    "    model = get_model()\n",
    "    model.set_params(beta=beta)\n",
    "\n",
    "    params = model.internal_params()\n",
    "    print(f\"beta={params['beta']}\")\n",
    "\n",
    "    callback = get_callback()\n",
    "\n",
    "    model.fit(\n",
    "        X_train,\n",
    "        y_train,\n",
    "        validation_data=(X_val, y_val),\n",
    "        callbacks=[callback],\n",
    "        verbose=True,\n",
    "    )\n",
    "\n",
    "    return model.score(X_val, y_val)\n",
    "\n",
    "\n",
    "study = optuna.create_study()\n",
    "study.optimize(objective, n_trials=10)"
   ]
  },
  {
   "cell_type": "markdown",
   "id": "c5d0f63c",
   "metadata": {},
   "source": [
    "### Pipeline"
   ]
  },
  {
   "cell_type": "code",
   "execution_count": 6,
   "id": "ccf9209c",
   "metadata": {},
   "outputs": [
    {
     "name": "stdout",
     "output_type": "stream",
     "text": [
      "time=00:00:00.513 trials=0 train=0.55394 pset=500.00000 mset=276.8 mfrac=0.45\n",
      "time=00:00:00.780 trials=5000 train=0.55222 pset=500.00000 mset=292.6 mfrac=0.44\n",
      "time=00:00:00.838 trials=10000 train=0.49859 pset=500.00000 mset=351.7 mfrac=0.49\n",
      "time=00:00:03.370 trials=15000 train=0.52357 pset=500.00000 mset=348.0 mfrac=0.45\n",
      "time=00:00:05.501\n"
     ]
    },
    {
     "data": {
      "text/html": [
       "<style>#sk-container-id-1 {color: black;}#sk-container-id-1 pre{padding: 0;}#sk-container-id-1 div.sk-toggleable {background-color: white;}#sk-container-id-1 label.sk-toggleable__label {cursor: pointer;display: block;width: 100%;margin-bottom: 0;padding: 0.3em;box-sizing: border-box;text-align: center;}#sk-container-id-1 label.sk-toggleable__label-arrow:before {content: \"▸\";float: left;margin-right: 0.25em;color: #696969;}#sk-container-id-1 label.sk-toggleable__label-arrow:hover:before {color: black;}#sk-container-id-1 div.sk-estimator:hover label.sk-toggleable__label-arrow:before {color: black;}#sk-container-id-1 div.sk-toggleable__content {max-height: 0;max-width: 0;overflow: hidden;text-align: left;background-color: #f0f8ff;}#sk-container-id-1 div.sk-toggleable__content pre {margin: 0.2em;color: black;border-radius: 0.25em;background-color: #f0f8ff;}#sk-container-id-1 input.sk-toggleable__control:checked~div.sk-toggleable__content {max-height: 200px;max-width: 100%;overflow: auto;}#sk-container-id-1 input.sk-toggleable__control:checked~label.sk-toggleable__label-arrow:before {content: \"▾\";}#sk-container-id-1 div.sk-estimator input.sk-toggleable__control:checked~label.sk-toggleable__label {background-color: #d4ebff;}#sk-container-id-1 div.sk-label input.sk-toggleable__control:checked~label.sk-toggleable__label {background-color: #d4ebff;}#sk-container-id-1 input.sk-hidden--visually {border: 0;clip: rect(1px 1px 1px 1px);clip: rect(1px, 1px, 1px, 1px);height: 1px;margin: -1px;overflow: hidden;padding: 0;position: absolute;width: 1px;}#sk-container-id-1 div.sk-estimator {font-family: monospace;background-color: #f0f8ff;border: 1px dotted black;border-radius: 0.25em;box-sizing: border-box;margin-bottom: 0.5em;}#sk-container-id-1 div.sk-estimator:hover {background-color: #d4ebff;}#sk-container-id-1 div.sk-parallel-item::after {content: \"\";width: 100%;border-bottom: 1px solid gray;flex-grow: 1;}#sk-container-id-1 div.sk-label:hover label.sk-toggleable__label {background-color: #d4ebff;}#sk-container-id-1 div.sk-serial::before {content: \"\";position: absolute;border-left: 1px solid gray;box-sizing: border-box;top: 0;bottom: 0;left: 50%;z-index: 0;}#sk-container-id-1 div.sk-serial {display: flex;flex-direction: column;align-items: center;background-color: white;padding-right: 0.2em;padding-left: 0.2em;position: relative;}#sk-container-id-1 div.sk-item {position: relative;z-index: 1;}#sk-container-id-1 div.sk-parallel {display: flex;align-items: stretch;justify-content: center;background-color: white;position: relative;}#sk-container-id-1 div.sk-item::before, #sk-container-id-1 div.sk-parallel-item::before {content: \"\";position: absolute;border-left: 1px solid gray;box-sizing: border-box;top: 0;bottom: 0;left: 50%;z-index: -1;}#sk-container-id-1 div.sk-parallel-item {display: flex;flex-direction: column;z-index: 1;position: relative;background-color: white;}#sk-container-id-1 div.sk-parallel-item:first-child::after {align-self: flex-end;width: 50%;}#sk-container-id-1 div.sk-parallel-item:last-child::after {align-self: flex-start;width: 50%;}#sk-container-id-1 div.sk-parallel-item:only-child::after {width: 0;}#sk-container-id-1 div.sk-dashed-wrapped {border: 1px dashed gray;margin: 0 0.4em 0.5em 0.4em;box-sizing: border-box;padding-bottom: 0.4em;background-color: white;}#sk-container-id-1 div.sk-label label {font-family: monospace;font-weight: bold;display: inline-block;line-height: 1.2em;}#sk-container-id-1 div.sk-label-container {text-align: center;}#sk-container-id-1 div.sk-container {/* jupyter's `normalize.less` sets `[hidden] { display: none; }` but bootstrap.min.css set `[hidden] { display: none !important; }` so we also need the `!important` here to be able to override the default hidden behavior on the sphinx rendered scikit-learn.org. See: https://github.com/scikit-learn/scikit-learn/issues/21755 */display: inline-block !important;position: relative;}#sk-container-id-1 div.sk-text-repr-fallback {display: none;}</style><div id=\"sk-container-id-1\" class=\"sk-top-container\"><div class=\"sk-text-repr-fallback\"><pre>Pipeline(steps=[(&#x27;minmaxscaler&#x27;, MinMaxScaler(feature_range=(-1.0, 1.0))),\n",
       "                (&#x27;transformedtargetregressor&#x27;,\n",
       "                 TransformedTargetRegressor(regressor=&lt;xcsf.xcsf.XCS object at 0x7fdd6a0f1970&gt;,\n",
       "                                            transformer=StandardScaler()))])</pre><b>In a Jupyter environment, please rerun this cell to show the HTML representation or trust the notebook. <br />On GitHub, the HTML representation is unable to render, please try loading this page with nbviewer.org.</b></div><div class=\"sk-container\" hidden><div class=\"sk-item sk-dashed-wrapped\"><div class=\"sk-label-container\"><div class=\"sk-label sk-toggleable\"><input class=\"sk-toggleable__control sk-hidden--visually\" id=\"sk-estimator-id-1\" type=\"checkbox\" ><label for=\"sk-estimator-id-1\" class=\"sk-toggleable__label sk-toggleable__label-arrow\">Pipeline</label><div class=\"sk-toggleable__content\"><pre>Pipeline(steps=[(&#x27;minmaxscaler&#x27;, MinMaxScaler(feature_range=(-1.0, 1.0))),\n",
       "                (&#x27;transformedtargetregressor&#x27;,\n",
       "                 TransformedTargetRegressor(regressor=&lt;xcsf.xcsf.XCS object at 0x7fdd6a0f1970&gt;,\n",
       "                                            transformer=StandardScaler()))])</pre></div></div></div><div class=\"sk-serial\"><div class=\"sk-item\"><div class=\"sk-estimator sk-toggleable\"><input class=\"sk-toggleable__control sk-hidden--visually\" id=\"sk-estimator-id-2\" type=\"checkbox\" ><label for=\"sk-estimator-id-2\" class=\"sk-toggleable__label sk-toggleable__label-arrow\">MinMaxScaler</label><div class=\"sk-toggleable__content\"><pre>MinMaxScaler(feature_range=(-1.0, 1.0))</pre></div></div></div><div class=\"sk-item sk-dashed-wrapped\"><div class=\"sk-label-container\"><div class=\"sk-label sk-toggleable\"><input class=\"sk-toggleable__control sk-hidden--visually\" id=\"sk-estimator-id-3\" type=\"checkbox\" ><label for=\"sk-estimator-id-3\" class=\"sk-toggleable__label sk-toggleable__label-arrow\">transformedtargetregressor: TransformedTargetRegressor</label><div class=\"sk-toggleable__content\"><pre>TransformedTargetRegressor(regressor=&lt;xcsf.xcsf.XCS object at 0x7fdd6a0f1970&gt;,\n",
       "                           transformer=StandardScaler())</pre></div></div></div><div class=\"sk-parallel\"><div class=\"sk-parallel-item\"><div class=\"sk-item\"><div class=\"sk-label-container\"><div class=\"sk-label sk-toggleable\"><input class=\"sk-toggleable__control sk-hidden--visually\" id=\"sk-estimator-id-4\" type=\"checkbox\" ><label for=\"sk-estimator-id-4\" class=\"sk-toggleable__label sk-toggleable__label-arrow\">regressor: XCS</label><div class=\"sk-toggleable__content\"><pre>&lt;xcsf.xcsf.XCS object at 0x7fdd6a0f1970&gt;</pre></div></div></div><div class=\"sk-serial\"><div class=\"sk-item\"><div class=\"sk-estimator sk-toggleable\"><input class=\"sk-toggleable__control sk-hidden--visually\" id=\"sk-estimator-id-5\" type=\"checkbox\" ><label for=\"sk-estimator-id-5\" class=\"sk-toggleable__label sk-toggleable__label-arrow\">XCS</label><div class=\"sk-toggleable__content\"><pre>&lt;xcsf.xcsf.XCS object at 0x7fdd6a0f1970&gt;</pre></div></div></div></div></div></div><div class=\"sk-parallel-item\"><div class=\"sk-item\"><div class=\"sk-label-container\"><div class=\"sk-label sk-toggleable\"><input class=\"sk-toggleable__control sk-hidden--visually\" id=\"sk-estimator-id-6\" type=\"checkbox\" ><label for=\"sk-estimator-id-6\" class=\"sk-toggleable__label sk-toggleable__label-arrow\">transformer: StandardScaler</label><div class=\"sk-toggleable__content\"><pre>StandardScaler()</pre></div></div></div><div class=\"sk-serial\"><div class=\"sk-item\"><div class=\"sk-estimator sk-toggleable\"><input class=\"sk-toggleable__control sk-hidden--visually\" id=\"sk-estimator-id-7\" type=\"checkbox\" ><label for=\"sk-estimator-id-7\" class=\"sk-toggleable__label sk-toggleable__label-arrow\">StandardScaler</label><div class=\"sk-toggleable__content\"><pre>StandardScaler()</pre></div></div></div></div></div></div></div></div></div></div></div></div>"
      ],
      "text/plain": [
       "Pipeline(steps=[('minmaxscaler', MinMaxScaler(feature_range=(-1.0, 1.0))),\n",
       "                ('transformedtargetregressor',\n",
       "                 TransformedTargetRegressor(regressor=<xcsf.xcsf.XCS object at 0x7fdd6a0f1970>,\n",
       "                                            transformer=StandardScaler()))])"
      ]
     },
     "execution_count": 6,
     "metadata": {},
     "output_type": "execute_result"
    }
   ],
   "source": [
    "model = get_model()\n",
    "\n",
    "model = make_pipeline(\n",
    "    MinMaxScaler(feature_range=(-1.0, 1.0)),\n",
    "    TransformedTargetRegressor(regressor=model, transformer=StandardScaler()),\n",
    ")\n",
    "\n",
    "model.fit(X_train, y_train)"
   ]
  },
  {
   "cell_type": "code",
   "execution_count": 7,
   "id": "269c3473",
   "metadata": {},
   "outputs": [
    {
     "name": "stdout",
     "output_type": "stream",
     "text": [
      "train=0.47031717384027283\n",
      "test=0.20063879503722692\n"
     ]
    }
   ],
   "source": [
    "y_pred = model.predict(X_test)\n",
    "\n",
    "train_score = model.score(X_train, y_train)\n",
    "test_score = model.score(X_test, y_test)\n",
    "\n",
    "print(f\"train={train_score}\")\n",
    "print(f\"test={test_score}\")"
   ]
  },
  {
   "cell_type": "markdown",
   "id": "2a1f3b0e",
   "metadata": {},
   "source": [
    "### Grid search"
   ]
  },
  {
   "cell_type": "markdown",
   "id": "803cf204",
   "metadata": {},
   "source": [
    "General parameters can be searched in the usual way:"
   ]
  },
  {
   "cell_type": "code",
   "execution_count": 8,
   "id": "f635bc9f",
   "metadata": {
    "scrolled": true
   },
   "outputs": [
    {
     "name": "stdout",
     "output_type": "stream",
     "text": [
      "time=00:00:00.467 trials=0 train=0.34194 pset=500.00000 mset=297.1 mfrac=1.00\n",
      "time=00:00:01.411 trials=5000 train=0.09027 pset=500.00000 mset=332.7 mfrac=1.00\n",
      "time=00:00:02.185 trials=10000 train=0.05746 pset=500.00000 mset=459.8 mfrac=1.00\n",
      "time=00:00:01.836 trials=15000 train=0.05371 pset=500.00000 mset=444.0 mfrac=1.00\n",
      "time=00:00:05.899\n",
      "time=00:00:00.486 trials=0 train=0.21143 pset=500.00000 mset=291.1 mfrac=1.00\n",
      "time=00:00:01.211 trials=5000 train=0.04051 pset=500.00000 mset=305.4 mfrac=1.00\n",
      "time=00:00:01.686 trials=10000 train=0.03011 pset=500.00000 mset=447.4 mfrac=0.78\n",
      "time=00:00:01.182 trials=15000 train=0.02480 pset=500.00000 mset=416.9 mfrac=0.40\n",
      "time=00:00:04.565\n",
      "time=00:00:00.429 trials=0 train=0.36399 pset=500.00000 mset=302.7 mfrac=0.62\n",
      "time=00:00:01.075 trials=5000 train=0.13655 pset=500.00000 mset=302.4 mfrac=0.07\n",
      "time=00:00:01.547 trials=10000 train=0.08819 pset=500.00000 mset=373.4 mfrac=0.11\n",
      "time=00:00:01.506 trials=15000 train=0.05964 pset=500.00000 mset=378.8 mfrac=0.23\n",
      "time=00:00:04.557\n",
      "time=00:00:00.428 trials=0 train=0.37928 pset=500.00000 mset=322.7 mfrac=1.00\n",
      "time=00:00:01.291 trials=5000 train=0.24974 pset=500.00000 mset=354.0 mfrac=1.00\n",
      "time=00:00:02.166 trials=10000 train=0.15934 pset=500.00000 mset=462.5 mfrac=1.00\n",
      "time=00:00:02.683 trials=15000 train=0.11209 pset=500.00000 mset=463.4 mfrac=1.00\n",
      "time=00:00:06.568\n",
      "time=00:00:00.590 trials=0 train=0.28286 pset=500.00000 mset=310.4 mfrac=1.00\n",
      "time=00:00:01.397 trials=5000 train=0.06109 pset=500.00000 mset=300.8 mfrac=0.71\n",
      "time=00:00:01.908 trials=10000 train=0.03348 pset=500.00000 mset=405.3 mfrac=0.19\n",
      "time=00:00:02.220 trials=15000 train=0.02365 pset=500.00000 mset=389.2 mfrac=0.43\n",
      "time=00:00:06.115\n",
      "time=00:00:00.912 trials=0 train=0.12024 pset=500.00000 mset=263.0 mfrac=1.00\n",
      "time=00:00:01.234 trials=5000 train=0.04356 pset=500.00000 mset=255.0 mfrac=1.00\n",
      "time=00:00:01.518 trials=10000 train=0.03568 pset=500.00000 mset=430.0 mfrac=1.00\n",
      "time=00:00:01.474 trials=15000 train=0.03782 pset=500.00000 mset=457.0 mfrac=1.00\n",
      "time=00:00:05.138\n",
      "time=00:00:00.784 trials=0 train=0.08672 pset=500.00000 mset=231.0 mfrac=1.00\n",
      "time=00:00:00.943 trials=5000 train=0.03575 pset=500.00000 mset=216.0 mfrac=1.00\n",
      "time=00:00:01.251 trials=10000 train=0.03374 pset=500.00000 mset=374.0 mfrac=0.97\n",
      "time=00:00:01.376 trials=15000 train=0.02544 pset=500.00000 mset=430.0 mfrac=0.22\n",
      "time=00:00:04.354\n",
      "time=00:00:00.499 trials=0 train=0.14736 pset=500.00000 mset=239.0 mfrac=1.00\n",
      "time=00:00:00.827 trials=5000 train=0.05716 pset=500.00000 mset=219.0 mfrac=1.00\n",
      "time=00:00:00.844 trials=10000 train=0.04333 pset=500.00000 mset=376.7 mfrac=0.99\n",
      "time=00:00:00.925 trials=15000 train=0.04337 pset=500.00000 mset=423.2 mfrac=0.61\n",
      "time=00:00:03.095\n",
      "time=00:00:00.458 trials=0 train=0.14043 pset=500.00000 mset=248.0 mfrac=1.00\n",
      "time=00:00:02.118 trials=5000 train=0.04911 pset=500.00000 mset=235.0 mfrac=1.00\n",
      "time=00:00:01.442 trials=10000 train=0.04230 pset=500.00000 mset=425.0 mfrac=1.00\n",
      "time=00:00:01.762 trials=15000 train=0.04400 pset=500.00000 mset=476.0 mfrac=1.00\n",
      "time=00:00:05.780\n",
      "time=00:00:00.678 trials=0 train=0.10618 pset=500.00000 mset=230.9 mfrac=1.00\n",
      "time=00:00:00.919 trials=5000 train=0.04350 pset=500.00000 mset=197.7 mfrac=1.00\n",
      "time=00:00:01.272 trials=10000 train=0.04267 pset=500.00000 mset=347.7 mfrac=0.96\n",
      "time=00:00:01.280 trials=15000 train=0.03594 pset=500.00000 mset=402.5 mfrac=1.00\n",
      "time=00:00:04.149\n",
      "time=00:00:00.575 trials=0 train=0.13942 pset=500.00000 mset=248.0 mfrac=1.00\n",
      "time=00:00:01.085 trials=5000 train=0.05506 pset=500.00000 mset=250.0 mfrac=1.00\n",
      "time=00:00:01.753 trials=10000 train=0.04680 pset=500.00000 mset=415.0 mfrac=1.00\n",
      "time=00:00:01.686 trials=15000 train=0.04177 pset=500.00000 mset=432.0 mfrac=1.00\n",
      "time=00:00:05.099\n",
      "Mean Score: 0.0429281295908764\n",
      "Standard Deviation: 0.017913632542398708\n",
      "Parameters: {'beta': 0.1}\n",
      "------------------------\n",
      "Mean Score: 0.039724541278636616\n",
      "Standard Deviation: 0.01339659981860304\n",
      "Parameters: {'beta': 0.5}\n",
      "------------------------\n",
      "Best parameters:  {'beta': 0.5}\n",
      "Best score:  0.039724541278636616\n"
     ]
    }
   ],
   "source": [
    "parameters = {\"beta\": [0.1, 0.5]}\n",
    "\n",
    "model = get_model()\n",
    "\n",
    "grid_search = GridSearchCV(model, parameters, scoring=\"neg_mean_squared_error\")\n",
    "\n",
    "grid_search.fit(X_train, y_train)\n",
    "\n",
    "results = grid_search.cv_results_\n",
    "\n",
    "for mean_score, std_score, params in zip(\n",
    "    results[\"mean_test_score\"], results[\"std_test_score\"], results[\"params\"]\n",
    "):\n",
    "    print(\"Mean Score:\", -mean_score)\n",
    "    print(\"Standard Deviation:\", std_score)\n",
    "    print(\"Parameters:\", params)\n",
    "    print(\"------------------------\")\n",
    "\n",
    "print(\"Best parameters: \", grid_search.best_params_)\n",
    "print(\"Best score: \", -grid_search.best_score_)"
   ]
  },
  {
   "cell_type": "markdown",
   "id": "35388c08",
   "metadata": {},
   "source": [
    "EA parameters require specifying a dict, but individual values can still be set \n",
    "because the other values are still initialised to their default values."
   ]
  },
  {
   "cell_type": "code",
   "execution_count": 9,
   "id": "421e4032",
   "metadata": {},
   "outputs": [],
   "source": [
    "parameters = {\"ea\": [{\"lambda\": 2}, {\"lambda\": 10}, {\"lambda\": 50}]}"
   ]
  },
  {
   "cell_type": "markdown",
   "id": "4e74ebe7",
   "metadata": {},
   "source": [
    "However, for actions, conditions, and predictions, the WHOLE dict must be specified\n",
    "for each value to try in the search. This is because of the way XCSF uses kwargs to\n",
    "initialise values and they are reset each time. XCSF has so many different parameters\n",
    "that it is unfortunately necessary to do it this way."
   ]
  },
  {
   "cell_type": "code",
   "execution_count": 10,
   "id": "632d91d7",
   "metadata": {},
   "outputs": [],
   "source": [
    "parameters = {}"
   ]
  }
 ],
 "metadata": {
  "kernelspec": {
   "display_name": "Python 3 (ipykernel)",
   "language": "python",
   "name": "python3"
  },
  "language_info": {
   "codemirror_mode": {
    "name": "ipython",
    "version": 3
   },
   "file_extension": ".py",
   "mimetype": "text/x-python",
   "name": "python",
   "nbconvert_exporter": "python",
   "pygments_lexer": "ipython3",
   "version": "3.10.6"
  }
 },
 "nbformat": 4,
 "nbformat_minor": 5
}
