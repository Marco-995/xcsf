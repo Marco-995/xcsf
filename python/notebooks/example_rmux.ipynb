{
 "cells": [
  {
   "cell_type": "markdown",
   "metadata": {},
   "source": [
    "### This example demonstrates XCSF (single-step) reinforcement learning applied to the real-multiplexer problem. Classifiers are composed of hyperrectangle conditions, linear least squares predictions, and integer actions."
   ]
  },
  {
   "cell_type": "code",
   "execution_count": 1,
   "metadata": {},
   "outputs": [],
   "source": [
    "from __future__ import annotations\n",
    "\n",
    "import random\n",
    "from typing import Final\n",
    "\n",
    "import matplotlib.pyplot as plt\n",
    "import numpy as np\n",
    "from tqdm import tqdm\n",
    "\n",
    "import xcsf"
   ]
  },
  {
   "cell_type": "markdown",
   "metadata": {},
   "source": [
    "### Create a real-multiplexer problem class"
   ]
  },
  {
   "cell_type": "code",
   "execution_count": 2,
   "metadata": {},
   "outputs": [],
   "source": [
    "class Mux:\n",
    "    \"\"\"\n",
    "    Real-multiplexer problem environment.\n",
    "\n",
    "    The Mux class generates random real vectors of length k+pow(2,k) where the\n",
    "    first k bits determine the position of the output bit in the last pow(2,k)\n",
    "    bits. E.g., for a 3-bit problem, the first (rounded) bit addresses which of\n",
    "    the following 2 bits are the (rounded) output.\n",
    "\n",
    "    Example valid lengths: 3, 6, 11, 20, 37, 70, 135, 264.\n",
    "    \"\"\"\n",
    "\n",
    "    def __init__(self, n_bits: int) -> None:\n",
    "        \"\"\"Constructs a new real-multiplexer problem of maximum size n_bits.\"\"\"\n",
    "        self.n_bits: Final[int] = n_bits  #: total number of bits\n",
    "        self.n_actions: Final[int] = 2  #: total number of actions\n",
    "        self.state: np.ndarray = np.zeros(n_bits)  #: current mux state\n",
    "        self.max_payoff: Final[float] = 1  #: reward for a correct prediction\n",
    "        self.pos_bits: int = 1  #: number of addressing bits\n",
    "        while self.pos_bits + pow(2, self.pos_bits) <= self.n_bits:\n",
    "            self.pos_bits += 1\n",
    "        self.pos_bits -= 1\n",
    "        print(f\"{self.n_bits} bits, {self.pos_bits} position bits\")\n",
    "\n",
    "    def reset(self) -> None:\n",
    "        \"\"\"Generates a random real-multiplexer state.\"\"\"\n",
    "        for k in range(self.n_bits):\n",
    "            self.state[k] = random.random()\n",
    "\n",
    "    def answer(self) -> int:\n",
    "        \"\"\"Returns the (discretised) bit addressed by the current mux state.\"\"\"\n",
    "        pos: int = self.pos_bits\n",
    "        for k in range(self.pos_bits):\n",
    "            if self.state[k] > 0.5:\n",
    "                pos += pow(2, self.pos_bits - 1 - k)\n",
    "        if self.state[pos] > 0.5:\n",
    "            return 1\n",
    "        return 0\n",
    "\n",
    "    def execute(self, act: int) -> float:\n",
    "        \"\"\"Returns the reward for performing an action.\"\"\"\n",
    "        if act == self.answer():\n",
    "            return self.max_payoff\n",
    "        return 0"
   ]
  },
  {
   "cell_type": "code",
   "execution_count": 3,
   "metadata": {},
   "outputs": [],
   "source": [
    "### Instantiate a new real-multiplexer problem"
   ]
  },
  {
   "cell_type": "code",
   "execution_count": 4,
   "metadata": {},
   "outputs": [
    {
     "name": "stdout",
     "output_type": "stream",
     "text": [
      "6 bits, 2 position bits\n"
     ]
    }
   ],
   "source": [
    "mux: Mux = Mux(6)\n",
    "X_DIM: Final[int] = mux.n_bits\n",
    "N_ACTIONS: Final[int] = mux.n_actions\n",
    "MAX_PAYOFF: Final[float] = mux.max_payoff"
   ]
  },
  {
   "cell_type": "markdown",
   "metadata": {},
   "source": [
    "### Initialise XCSF"
   ]
  },
  {
   "cell_type": "code",
   "execution_count": 5,
   "metadata": {},
   "outputs": [
    {
     "name": "stdout",
     "output_type": "stream",
     "text": [
      "{\n",
      "\t\"version\":\t\"1.1.6\",\n",
      "\t\"x_dim\":\t6,\n",
      "\t\"y_dim\":\t1,\n",
      "\t\"n_actions\":\t2,\n",
      "\t\"omp_num_threads\":\t8,\n",
      "\t\"pop_init\":\ttrue,\n",
      "\t\"max_trials\":\t100000,\n",
      "\t\"perf_trials\":\t1000,\n",
      "\t\"pop_size\":\t1000,\n",
      "\t\"loss_func\":\t\"mae\",\n",
      "\t\"gamma\":\t0.95,\n",
      "\t\"teletransportation\":\t50,\n",
      "\t\"p_explore\":\t0.9,\n",
      "\t\"set_subsumption\":\ttrue,\n",
      "\t\"theta_sub\":\t100,\n",
      "\t\"e0\":\t0.01,\n",
      "\t\"alpha\":\t0.1,\n",
      "\t\"nu\":\t5,\n",
      "\t\"beta\":\t0.2,\n",
      "\t\"delta\":\t0.1,\n",
      "\t\"theta_del\":\t20,\n",
      "\t\"init_fitness\":\t0.01,\n",
      "\t\"init_error\":\t0,\n",
      "\t\"m_probation\":\t10000,\n",
      "\t\"stateful\":\ttrue,\n",
      "\t\"compaction\":\tfalse,\n",
      "\t\"ea\":\t{\n",
      "\t\t\"select_type\":\t\"roulette\",\n",
      "\t\t\"theta_ea\":\t25,\n",
      "\t\t\"lambda\":\t2,\n",
      "\t\t\"p_crossover\":\t0.8,\n",
      "\t\t\"err_reduc\":\t1,\n",
      "\t\t\"fit_reduc\":\t0.1,\n",
      "\t\t\"subsumption\":\ttrue,\n",
      "\t\t\"pred_reset\":\tfalse\n",
      "\t},\n",
      "\t\"action\":\t{\n",
      "\t\t\"type\":\t\"integer\"\n",
      "\t},\n",
      "\t\"condition\":\t{\n",
      "\t\t\"type\":\t\"hyperrectangle\",\n",
      "\t\t\"args\":\t{\n",
      "\t\t\t\"eta\":\t0,\n",
      "\t\t\t\"min\":\t0,\n",
      "\t\t\t\"max\":\t1,\n",
      "\t\t\t\"spread_min\":\t0.1\n",
      "\t\t}\n",
      "\t},\n",
      "\t\"prediction\":\t{\n",
      "\t\t\"type\":\t\"nlms_linear\",\n",
      "\t\t\"args\":\t{\n",
      "\t\t\t\"x0\":\t1,\n",
      "\t\t\t\"eta\":\t1,\n",
      "\t\t\t\"evolve_eta\":\ttrue,\n",
      "\t\t\t\"eta_min\":\t0.0001\n",
      "\t\t}\n",
      "\t}\n",
      "}\n"
     ]
    }
   ],
   "source": [
    "# constructor = (x_dim, y_dim, n_actions)\n",
    "xcs: xcsf.XCS = xcsf.XCS(X_DIM, 1, N_ACTIONS)\n",
    "\n",
    "xcs.OMP_NUM_THREADS = 8  # number of CPU cores to use\n",
    "xcs.POP_SIZE = 1000  # maximum population size\n",
    "xcs.E0 = 0.01  # target error\n",
    "xcs.BETA = 0.2  # classifier parameter update rate\n",
    "xcs.THETA_EA = 25  # EA frequency\n",
    "xcs.ALPHA = 0.1  # accuracy offset\n",
    "xcs.NU = 5  # accuracy slope\n",
    "xcs.EA_SUBSUMPTION = True\n",
    "xcs.SET_SUBSUMPTION = True\n",
    "xcs.THETA_SUB = 100  # minimum experience of a subsumer\n",
    "xcs.action(\"integer\")\n",
    "xcs.condition(\"hyperrectangle\", {\"min\": 0, \"max\": 1, \"spread_min\": 0.1})\n",
    "xcs.prediction(\"nlms_linear\", {\"eta\": 1, \"eta_min\": 0.0001, \"evolve_eta\": True})\n",
    "\n",
    "print(xcs.json_parameters())"
   ]
  },
  {
   "cell_type": "markdown",
   "metadata": {},
   "source": [
    "### Execute experiment"
   ]
  },
  {
   "cell_type": "code",
   "execution_count": 6,
   "metadata": {},
   "outputs": [
    {
     "name": "stderr",
     "output_type": "stream",
     "text": [
      "trials=100000 performance=0.99900 error=0.00852 psize=998.0 msize=99.5: 100%|████████████████████████████████████████████████████████████████████████████████████████████| 100/100 [00:18<00:00,  5.46it/s]\n"
     ]
    }
   ],
   "source": [
    "PERF_TRIALS: Final[int] = 1000  # number of trials over which to average performance\n",
    "N: Final[int] = 100  # 100,000 trials in total to run\n",
    "trials: np.ndarray = np.zeros(N)\n",
    "psize: np.ndarray = np.zeros(N)\n",
    "msize: np.ndarray = np.zeros(N)\n",
    "performance: np.ndarray = np.zeros(N)\n",
    "error: np.ndarray = np.zeros(N)\n",
    "\n",
    "\n",
    "def egreedy_action(state: np.ndarray, epsilon: float) -> tuple[int, float]:\n",
    "    \"\"\"Selects an action using an epsilon greedy policy.\"\"\"\n",
    "    if np.random.rand() < epsilon:\n",
    "        return random.randrange(N_ACTIONS), 0\n",
    "    prediction_array = xcs.predict(state.reshape(1, -1))[0]\n",
    "    action = int(np.argmax(prediction_array))\n",
    "    prediction = prediction_array[action]\n",
    "    return action, prediction\n",
    "\n",
    "\n",
    "def run_experiment() -> None:\n",
    "    \"\"\"Executes a single experiment.\"\"\"\n",
    "    bar = tqdm(total=N)  # progress bar\n",
    "    for i in range(N):\n",
    "        for _ in range(PERF_TRIALS):\n",
    "            # explore trial\n",
    "            mux.reset()\n",
    "            action, prediction = egreedy_action(mux.state, 1)  # random action\n",
    "            reward = mux.execute(action)\n",
    "            xcs.fit(mux.state, action, reward)  # update action set, run EA, etc.\n",
    "            # exploit trial\n",
    "            mux.reset()\n",
    "            action, prediction = egreedy_action(mux.state, 0)  # best action\n",
    "            reward = mux.execute(action)\n",
    "            performance[i] += reward / MAX_PAYOFF\n",
    "            error[i] += abs(reward - prediction) / MAX_PAYOFF\n",
    "        performance[i] /= float(PERF_TRIALS)\n",
    "        error[i] /= PERF_TRIALS\n",
    "        trials[i] = xcs.time()  # number of learning updates performed\n",
    "        psize[i] = xcs.pset_size()  # current population size\n",
    "        msize[i] = xcs.mset_size()  # avg match set size\n",
    "        status = (  # update status\n",
    "            f\"trials={trials[i]:.0f} \"\n",
    "            f\"performance={performance[i]:.5f} \"\n",
    "            f\"error={error[i]:.5f} \"\n",
    "            f\"psize={psize[i]:.1f} \"\n",
    "            f\"msize={msize[i]:.1f}\"\n",
    "        )\n",
    "        bar.set_description(status)\n",
    "        bar.refresh()\n",
    "        bar.update(1)\n",
    "    bar.close()\n",
    "\n",
    "\n",
    "run_experiment()"
   ]
  },
  {
   "cell_type": "markdown",
   "metadata": {},
   "source": [
    "### Plot XCSF learning performance"
   ]
  },
  {
   "cell_type": "code",
   "execution_count": 7,
   "metadata": {},
   "outputs": [
    {
     "data": {
      "image/png": "[encoded data removed]",
      "text/plain": [
       "<Figure size 720x432 with 1 Axes>"
      ]
     },
     "metadata": {
      "needs_background": "light"
     },
     "output_type": "display_data"
    }
   ],
   "source": [
    "plt.figure(figsize=(10, 6))\n",
    "plt.plot(trials, performance, label=\"Performance\")\n",
    "plt.plot(trials, error, label=\"System error\")\n",
    "plt.grid(linestyle=\"dotted\", linewidth=1)\n",
    "plt.title(f\"{mux.n_bits}-bit Real Multiplexer\", fontsize=14)\n",
    "plt.xlabel(\"Trials\", fontsize=12)\n",
    "plt.xlim([0, N * PERF_TRIALS])\n",
    "plt.legend()\n",
    "plt.show()"
   ]
  },
  {
   "cell_type": "code",
   "execution_count": null,
   "metadata": {},
   "outputs": [],
   "source": []
  }
 ],
 "metadata": {
  "kernelspec": {
   "display_name": "Python 3 (ipykernel)",
   "language": "python",
   "name": "python3"
  },
  "language_info": {
   "codemirror_mode": {
    "name": "ipython",
    "version": 3
   },
   "file_extension": ".py",
   "mimetype": "text/x-python",
   "name": "python",
   "nbconvert_exporter": "python",
   "pygments_lexer": "ipython3",
   "version": "3.8.10"
  }
 },
 "nbformat": 4,
 "nbformat_minor": 4
}
