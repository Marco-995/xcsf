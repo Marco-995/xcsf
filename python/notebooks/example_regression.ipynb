{
 "cells": [
  {
   "cell_type": "markdown",
   "metadata": {},
   "source": [
    "### This example demonstrates the XCSF supervised learning mechanisms to perform regression\n",
    "Classifiers are composed of tree GP conditions and neural network predictions. A single dummy action is performed such that [A] = [M]."
   ]
  },
  {
   "cell_type": "code",
   "execution_count": 1,
   "metadata": {},
   "outputs": [],
   "source": [
    "from __future__ import annotations\n",
    "\n",
    "import json\n",
    "\n",
    "import graphviz\n",
    "import matplotlib.pyplot as plt\n",
    "import numpy as np\n",
    "import pandas as pd\n",
    "from IPython.display import display, Image\n",
    "from sklearn.datasets import fetch_openml\n",
    "from sklearn.ensemble import RandomForestRegressor\n",
    "from sklearn.gaussian_process import GaussianProcessRegressor\n",
    "from sklearn.linear_model import LinearRegression\n",
    "from sklearn.metrics import mean_squared_error\n",
    "from sklearn.model_selection import train_test_split\n",
    "from sklearn.neural_network import MLPRegressor\n",
    "from sklearn.preprocessing import StandardScaler, minmax_scale\n",
    "from tqdm import tqdm\n",
    "\n",
    "import xcsf\n",
    "from xcsf.utils.viz import TreeViz\n",
    "\n",
    "np.set_printoptions(suppress=True)\n",
    "\n",
    "RANDOM_STATE: int = 10101"
   ]
  },
  {
   "cell_type": "markdown",
   "metadata": {},
   "source": [
    "### Load training and test data\n",
    "Loads the kin8nm dataset from: https://www.openml.org/d/189\n",
    "\n",
    "\"This is data set is concerned with the forward kinematics of an 8 link robot arm. Among the existing variants of this data set we have used the variant 8nm, which is known to be highly non-linear and medium noisy.\""
   ]
  },
  {
   "cell_type": "code",
   "execution_count": 2,
   "metadata": {},
   "outputs": [
    {
     "data": {
      "text/html": [
       "<div>\n",
       "<style scoped>\n",
       "    .dataframe tbody tr th:only-of-type {\n",
       "        vertical-align: middle;\n",
       "    }\n",
       "\n",
       "    .dataframe tbody tr th {\n",
       "        vertical-align: top;\n",
       "    }\n",
       "\n",
       "    .dataframe thead th {\n",
       "        text-align: right;\n",
       "    }\n",
       "</style>\n",
       "<table border=\"1\" class=\"dataframe\">\n",
       "  <thead>\n",
       "    <tr style=\"text-align: right;\">\n",
       "      <th></th>\n",
       "      <th>theta1</th>\n",
       "      <th>theta2</th>\n",
       "      <th>theta3</th>\n",
       "      <th>theta4</th>\n",
       "      <th>theta5</th>\n",
       "      <th>theta6</th>\n",
       "      <th>theta7</th>\n",
       "      <th>theta8</th>\n",
       "      <th>y</th>\n",
       "    </tr>\n",
       "  </thead>\n",
       "  <tbody>\n",
       "    <tr>\n",
       "      <th>0</th>\n",
       "      <td>-0.015119</td>\n",
       "      <td>0.360741</td>\n",
       "      <td>0.469398</td>\n",
       "      <td>1.309675</td>\n",
       "      <td>0.988024</td>\n",
       "      <td>-0.025493</td>\n",
       "      <td>0.664071</td>\n",
       "      <td>0.062763</td>\n",
       "      <td>0.536524</td>\n",
       "    </tr>\n",
       "    <tr>\n",
       "      <th>1</th>\n",
       "      <td>0.360478</td>\n",
       "      <td>-0.301395</td>\n",
       "      <td>0.629183</td>\n",
       "      <td>-1.440146</td>\n",
       "      <td>-0.741637</td>\n",
       "      <td>-1.196749</td>\n",
       "      <td>-1.038444</td>\n",
       "      <td>-0.717461</td>\n",
       "      <td>0.308014</td>\n",
       "    </tr>\n",
       "    <tr>\n",
       "      <th>2</th>\n",
       "      <td>1.563238</td>\n",
       "      <td>-1.294753</td>\n",
       "      <td>0.078987</td>\n",
       "      <td>1.432937</td>\n",
       "      <td>1.149136</td>\n",
       "      <td>-1.292140</td>\n",
       "      <td>1.562988</td>\n",
       "      <td>-0.937731</td>\n",
       "      <td>0.518900</td>\n",
       "    </tr>\n",
       "    <tr>\n",
       "      <th>3</th>\n",
       "      <td>0.199485</td>\n",
       "      <td>0.901157</td>\n",
       "      <td>-1.356304</td>\n",
       "      <td>-0.080525</td>\n",
       "      <td>-0.976628</td>\n",
       "      <td>0.829894</td>\n",
       "      <td>-0.855649</td>\n",
       "      <td>0.930630</td>\n",
       "      <td>0.494151</td>\n",
       "    </tr>\n",
       "    <tr>\n",
       "      <th>4</th>\n",
       "      <td>0.659737</td>\n",
       "      <td>0.120552</td>\n",
       "      <td>-0.008756</td>\n",
       "      <td>0.648839</td>\n",
       "      <td>0.626832</td>\n",
       "      <td>-0.646539</td>\n",
       "      <td>1.318074</td>\n",
       "      <td>-0.899172</td>\n",
       "      <td>0.470218</td>\n",
       "    </tr>\n",
       "  </tbody>\n",
       "</table>\n",
       "</div>"
      ],
      "text/plain": [
       "     theta1    theta2    theta3    theta4    theta5    theta6    theta7  \\\n",
       "0 -0.015119  0.360741  0.469398  1.309675  0.988024 -0.025493  0.664071   \n",
       "1  0.360478 -0.301395  0.629183 -1.440146 -0.741637 -1.196749 -1.038444   \n",
       "2  1.563238 -1.294753  0.078987  1.432937  1.149136 -1.292140  1.562988   \n",
       "3  0.199485  0.901157 -1.356304 -0.080525 -0.976628  0.829894 -0.855649   \n",
       "4  0.659737  0.120552 -0.008756  0.648839  0.626832 -0.646539  1.318074   \n",
       "\n",
       "     theta8         y  \n",
       "0  0.062763  0.536524  \n",
       "1 -0.717461  0.308014  \n",
       "2 -0.937731  0.518900  \n",
       "3  0.930630  0.494151  \n",
       "4 -0.899172  0.470218  "
      ]
     },
     "execution_count": 2,
     "metadata": {},
     "output_type": "execute_result"
    }
   ],
   "source": [
    "data = fetch_openml(data_id=189, as_frame=True, parser=\"auto\")\n",
    "\n",
    "data.frame.head()"
   ]
  },
  {
   "cell_type": "code",
   "execution_count": 3,
   "metadata": {},
   "outputs": [
    {
     "data": {
      "text/html": [
       "<div>\n",
       "<style scoped>\n",
       "    .dataframe tbody tr th:only-of-type {\n",
       "        vertical-align: middle;\n",
       "    }\n",
       "\n",
       "    .dataframe tbody tr th {\n",
       "        vertical-align: top;\n",
       "    }\n",
       "\n",
       "    .dataframe thead th {\n",
       "        text-align: right;\n",
       "    }\n",
       "</style>\n",
       "<table border=\"1\" class=\"dataframe\">\n",
       "  <thead>\n",
       "    <tr style=\"text-align: right;\">\n",
       "      <th></th>\n",
       "      <th>theta1</th>\n",
       "      <th>theta2</th>\n",
       "      <th>theta3</th>\n",
       "      <th>theta4</th>\n",
       "      <th>theta5</th>\n",
       "      <th>theta6</th>\n",
       "      <th>theta7</th>\n",
       "      <th>theta8</th>\n",
       "      <th>y</th>\n",
       "    </tr>\n",
       "  </thead>\n",
       "  <tbody>\n",
       "    <tr>\n",
       "      <th>count</th>\n",
       "      <td>8192.000000</td>\n",
       "      <td>8192.000000</td>\n",
       "      <td>8192.000000</td>\n",
       "      <td>8192.000000</td>\n",
       "      <td>8192.000000</td>\n",
       "      <td>8192.000000</td>\n",
       "      <td>8192.000000</td>\n",
       "      <td>8192.000000</td>\n",
       "      <td>8192.000000</td>\n",
       "    </tr>\n",
       "    <tr>\n",
       "      <th>mean</th>\n",
       "      <td>0.009351</td>\n",
       "      <td>-0.007233</td>\n",
       "      <td>0.022792</td>\n",
       "      <td>-0.012945</td>\n",
       "      <td>0.007886</td>\n",
       "      <td>-0.009698</td>\n",
       "      <td>0.008402</td>\n",
       "      <td>0.001227</td>\n",
       "      <td>0.714283</td>\n",
       "    </tr>\n",
       "    <tr>\n",
       "      <th>std</th>\n",
       "      <td>0.904867</td>\n",
       "      <td>0.901496</td>\n",
       "      <td>0.900765</td>\n",
       "      <td>0.899186</td>\n",
       "      <td>0.906874</td>\n",
       "      <td>0.913243</td>\n",
       "      <td>0.909724</td>\n",
       "      <td>0.906098</td>\n",
       "      <td>0.263607</td>\n",
       "    </tr>\n",
       "    <tr>\n",
       "      <th>min</th>\n",
       "      <td>-1.570611</td>\n",
       "      <td>-1.570681</td>\n",
       "      <td>-1.570669</td>\n",
       "      <td>-1.570295</td>\n",
       "      <td>-1.570664</td>\n",
       "      <td>-1.570254</td>\n",
       "      <td>-1.570643</td>\n",
       "      <td>-1.568904</td>\n",
       "      <td>0.040165</td>\n",
       "    </tr>\n",
       "    <tr>\n",
       "      <th>25%</th>\n",
       "      <td>-0.770328</td>\n",
       "      <td>-0.778319</td>\n",
       "      <td>-0.749718</td>\n",
       "      <td>-0.780602</td>\n",
       "      <td>-0.770492</td>\n",
       "      <td>-0.802084</td>\n",
       "      <td>-0.776870</td>\n",
       "      <td>-0.777432</td>\n",
       "      <td>0.523584</td>\n",
       "    </tr>\n",
       "    <tr>\n",
       "      <th>50%</th>\n",
       "      <td>-0.002010</td>\n",
       "      <td>-0.015152</td>\n",
       "      <td>0.041346</td>\n",
       "      <td>-0.013617</td>\n",
       "      <td>0.009702</td>\n",
       "      <td>-0.003575</td>\n",
       "      <td>0.001338</td>\n",
       "      <td>0.002007</td>\n",
       "      <td>0.708822</td>\n",
       "    </tr>\n",
       "    <tr>\n",
       "      <th>75%</th>\n",
       "      <td>0.791179</td>\n",
       "      <td>0.779145</td>\n",
       "      <td>0.792391</td>\n",
       "      <td>0.760165</td>\n",
       "      <td>0.791203</td>\n",
       "      <td>0.781849</td>\n",
       "      <td>0.798014</td>\n",
       "      <td>0.780927</td>\n",
       "      <td>0.901354</td>\n",
       "    </tr>\n",
       "    <tr>\n",
       "      <th>max</th>\n",
       "      <td>1.570753</td>\n",
       "      <td>1.570657</td>\n",
       "      <td>1.570736</td>\n",
       "      <td>1.570169</td>\n",
       "      <td>1.570599</td>\n",
       "      <td>1.570597</td>\n",
       "      <td>1.570522</td>\n",
       "      <td>1.570237</td>\n",
       "      <td>1.458521</td>\n",
       "    </tr>\n",
       "  </tbody>\n",
       "</table>\n",
       "</div>"
      ],
      "text/plain": [
       "            theta1       theta2       theta3       theta4       theta5  \\\n",
       "count  8192.000000  8192.000000  8192.000000  8192.000000  8192.000000   \n",
       "mean      0.009351    -0.007233     0.022792    -0.012945     0.007886   \n",
       "std       0.904867     0.901496     0.900765     0.899186     0.906874   \n",
       "min      -1.570611    -1.570681    -1.570669    -1.570295    -1.570664   \n",
       "25%      -0.770328    -0.778319    -0.749718    -0.780602    -0.770492   \n",
       "50%      -0.002010    -0.015152     0.041346    -0.013617     0.009702   \n",
       "75%       0.791179     0.779145     0.792391     0.760165     0.791203   \n",
       "max       1.570753     1.570657     1.570736     1.570169     1.570599   \n",
       "\n",
       "            theta6       theta7       theta8            y  \n",
       "count  8192.000000  8192.000000  8192.000000  8192.000000  \n",
       "mean     -0.009698     0.008402     0.001227     0.714283  \n",
       "std       0.913243     0.909724     0.906098     0.263607  \n",
       "min      -1.570254    -1.570643    -1.568904     0.040165  \n",
       "25%      -0.802084    -0.776870    -0.777432     0.523584  \n",
       "50%      -0.003575     0.001338     0.002007     0.708822  \n",
       "75%       0.781849     0.798014     0.780927     0.901354  \n",
       "max       1.570597     1.570522     1.570237     1.458521  "
      ]
     },
     "execution_count": 3,
     "metadata": {},
     "output_type": "execute_result"
    }
   ],
   "source": [
    "data.frame.describe()"
   ]
  },
  {
   "cell_type": "code",
   "execution_count": 4,
   "metadata": {},
   "outputs": [
    {
     "name": "stdout",
     "output_type": "stream",
     "text": [
      "X_train shape = (6634, 8)\n",
      "y_train shape = (6634, 1)\n",
      "X_val shape = (738, 8)\n",
      "y_val shape = (738, 1)\n",
      "X_test shape = (820, 8)\n",
      "y_test shape = (820, 1)\n"
     ]
    }
   ],
   "source": [
    "# numpy\n",
    "X = np.asarray(data.data, dtype=np.float64)\n",
    "y = np.asarray(data.target, dtype=np.float64)\n",
    "\n",
    "# normalise inputs (zero mean and unit variance)\n",
    "scaler = StandardScaler()\n",
    "scaler.fit_transform(X)\n",
    "\n",
    "# scale outputs [0,1]\n",
    "y = minmax_scale(y, feature_range=(0, 1))\n",
    "\n",
    "# reshape into 2D arrays\n",
    "if len(np.shape(y)) == 1:\n",
    "    y = y.reshape(-1, 1)\n",
    "\n",
    "# split into training and test sets\n",
    "X_train, X_test, y_train, y_test = train_test_split(\n",
    "    X, y, test_size=0.1, random_state=RANDOM_STATE\n",
    ")\n",
    "\n",
    "# 10% of training for validation\n",
    "X_train, X_val, y_train, y_val = train_test_split(\n",
    "    X_train, y_train, test_size=0.1, random_state=RANDOM_STATE\n",
    ")\n",
    "\n",
    "print(f\"X_train shape = {np.shape(X_train)}\")\n",
    "print(f\"y_train shape = {np.shape(y_train)}\")\n",
    "print(f\"X_val shape = {np.shape(X_val)}\")\n",
    "print(f\"y_val shape = {np.shape(y_val)}\")\n",
    "print(f\"X_test shape = {np.shape(X_test)}\")\n",
    "print(f\"y_test shape = {np.shape(y_test)}\")\n",
    "\n",
    "X_DIM: int = np.shape(X_train)[1]\n",
    "Y_DIM: int = np.shape(y_train)[1]"
   ]
  },
  {
   "cell_type": "markdown",
   "metadata": {},
   "source": [
    "### Initialise XCSF"
   ]
  },
  {
   "cell_type": "code",
   "execution_count": 5,
   "metadata": {},
   "outputs": [
    {
     "name": "stdout",
     "output_type": "stream",
     "text": [
      "{\n",
      "    \"version\": \"1.3.0\",\n",
      "    \"x_dim\": 8,\n",
      "    \"y_dim\": 1,\n",
      "    \"n_actions\": 1,\n",
      "    \"omp_num_threads\": 12,\n",
      "    \"random_state\": 10101,\n",
      "    \"population_file\": \"\",\n",
      "    \"pop_init\": true,\n",
      "    \"max_trials\": 200000,\n",
      "    \"perf_trials\": 5000,\n",
      "    \"pop_size\": 500,\n",
      "    \"loss_func\": \"mse\",\n",
      "    \"set_subsumption\": false,\n",
      "    \"theta_sub\": 100,\n",
      "    \"e0\": 0.003,\n",
      "    \"alpha\": 1,\n",
      "    \"nu\": 20,\n",
      "    \"beta\": 0.1,\n",
      "    \"delta\": 0.1,\n",
      "    \"theta_del\": 50,\n",
      "    \"init_fitness\": 0.01,\n",
      "    \"init_error\": 0,\n",
      "    \"m_probation\": 10000,\n",
      "    \"stateful\": true,\n",
      "    \"compaction\": false,\n",
      "    \"ea\": {\n",
      "        \"select_type\": \"roulette\",\n",
      "        \"theta_ea\": 50,\n",
      "        \"lambda\": 2,\n",
      "        \"p_crossover\": 0.8,\n",
      "        \"err_reduc\": 1,\n",
      "        \"fit_reduc\": 0.1,\n",
      "        \"subsumption\": false,\n",
      "        \"pred_reset\": false\n",
      "    },\n",
      "    \"condition\": {\n",
      "        \"type\": \"tree_gp\",\n",
      "        \"args\": {\n",
      "            \"min_constant\": 0,\n",
      "            \"max_constant\": 1,\n",
      "            \"n_constants\": 100,\n",
      "            \"init_depth\": 5,\n",
      "            \"max_len\": 10000\n",
      "        }\n",
      "    },\n",
      "    \"prediction\": {\n",
      "        \"type\": \"neural\",\n",
      "        \"args\": {\n",
      "            \"layer_0\": {\n",
      "                \"type\": \"connected\",\n",
      "                \"activation\": \"relu\",\n",
      "                \"n_inputs\": 8,\n",
      "                \"n_init\": 40,\n",
      "                \"evolve_weights\": true,\n",
      "                \"evolve_functions\": false,\n",
      "                \"evolve_connect\": true,\n",
      "                \"evolve_neurons\": false,\n",
      "                \"sgd_weights\": true,\n",
      "                \"eta\": 0.1,\n",
      "                \"evolve_eta\": true,\n",
      "                \"eta_min\": 1e-06,\n",
      "                \"momentum\": 0.9,\n",
      "                \"decay\": 0\n",
      "            },\n",
      "            \"layer_1\": {\n",
      "                \"type\": \"connected\",\n",
      "                \"activation\": \"softplus\",\n",
      "                \"n_inputs\": 40,\n",
      "                \"n_init\": 1,\n",
      "                \"evolve_weights\": true,\n",
      "                \"evolve_functions\": false,\n",
      "                \"evolve_connect\": true,\n",
      "                \"evolve_neurons\": false,\n",
      "                \"sgd_weights\": true,\n",
      "                \"eta\": 0.1,\n",
      "                \"evolve_eta\": true,\n",
      "                \"eta_min\": 1e-06,\n",
      "                \"momentum\": 0.9,\n",
      "                \"decay\": 0\n",
      "            }\n",
      "        }\n",
      "    }\n",
      "}\n"
     ]
    }
   ],
   "source": [
    "MAX_TRIALS: int = 200000\n",
    "E0: float = 0.003\n",
    "\n",
    "xcs = xcsf.XCS(\n",
    "    x_dim=X_DIM,\n",
    "    y_dim=Y_DIM,\n",
    "    n_actions=1,\n",
    "    omp_num_threads=12,\n",
    "    random_state=RANDOM_STATE,\n",
    "    pop_init=True,\n",
    "    max_trials=MAX_TRIALS,\n",
    "    perf_trials=5000,\n",
    "    pop_size=500,\n",
    "    loss_func=\"mse\",\n",
    "    set_subsumption=False,\n",
    "    theta_sub=100,\n",
    "    e0=E0,\n",
    "    alpha=1,\n",
    "    nu=20,\n",
    "    beta=0.1,\n",
    "    delta=0.1,\n",
    "    theta_del=50,\n",
    "    init_fitness=0.01,\n",
    "    init_error=0,\n",
    "    m_probation=10000,\n",
    "    stateful=True,\n",
    "    compaction=False,\n",
    "    ea={\n",
    "        \"select_type\": \"roulette\",\n",
    "        \"theta_ea\": 50,\n",
    "        \"lambda\": 2,\n",
    "        \"p_crossover\": 0.8,\n",
    "        \"err_reduc\": 1,\n",
    "        \"fit_reduc\": 0.1,\n",
    "        \"subsumption\": False,\n",
    "        \"pred_reset\": False,\n",
    "    },\n",
    "    condition={\n",
    "        \"type\": \"tree_gp\",\n",
    "        \"args\": {\n",
    "            \"min_constant\": 0,\n",
    "            \"max_constant\": 1,\n",
    "            \"n_constants\": 100,\n",
    "            \"init_depth\": 5,\n",
    "            \"max_len\": 10000,\n",
    "        },\n",
    "    },\n",
    "    prediction={\n",
    "        \"type\": \"neural\",\n",
    "        \"args\": {\n",
    "            \"layer_0\": {\n",
    "                \"type\": \"connected\",\n",
    "                \"activation\": \"relu\",\n",
    "                \"n_init\": 40,\n",
    "                \"evolve_weights\": True,\n",
    "                \"evolve_functions\": False,\n",
    "                \"evolve_connect\": True,\n",
    "                \"evolve_neurons\": False,\n",
    "                \"sgd_weights\": True,\n",
    "                \"eta\": 0.1,\n",
    "                \"evolve_eta\": True,\n",
    "                \"eta_min\": 1e-06,\n",
    "                \"momentum\": 0.9,\n",
    "                \"decay\": 0,\n",
    "            },\n",
    "            \"layer_1\": {\n",
    "                \"type\": \"connected\",\n",
    "                \"activation\": \"softplus\",\n",
    "                \"n_init\": 1,\n",
    "                \"evolve_weights\": True,\n",
    "                \"evolve_functions\": False,\n",
    "                \"evolve_connect\": True,\n",
    "                \"evolve_neurons\": False,\n",
    "                \"sgd_weights\": True,\n",
    "                \"eta\": 0.1,\n",
    "                \"evolve_eta\": True,\n",
    "                \"eta_min\": 1e-06,\n",
    "                \"momentum\": 0.9,\n",
    "                \"decay\": 0,\n",
    "            },\n",
    "        },\n",
    "    },\n",
    ")\n",
    "\n",
    "print(json.dumps(xcs.internal_params(), indent=4))"
   ]
  },
  {
   "cell_type": "markdown",
   "metadata": {},
   "source": [
    "### Fit XCSF"
   ]
  },
  {
   "cell_type": "code",
   "execution_count": 6,
   "metadata": {
    "scrolled": true
   },
   "outputs": [
    {
     "name": "stdout",
     "output_type": "stream",
     "text": [
      "00:00:00.781 trials=0 train=0.01282 val=0.01114 pset=500.0 mset=229.0 mfrac=0.23\n",
      "checkpoint: 0.01114 error at 0 trials\n",
      "00:00:00.807 trials=5000 train=0.00804 val=0.00662 pset=500.0 mset=216.9 mfrac=1.00\n",
      "checkpoint: 0.00662 error at 5000 trials\n",
      "00:00:00.993 trials=10000 train=0.00582 val=0.00583 pset=500.0 mset=368.5 mfrac=1.00\n",
      "checkpoint: 0.00583 error at 10000 trials\n",
      "00:00:01.288 trials=15000 train=0.00517 val=0.00493 pset=500.0 mset=388.5 mfrac=1.00\n",
      "checkpoint: 0.00493 error at 15000 trials\n",
      "00:00:01.430 trials=20000 train=0.00447 val=0.00380 pset=500.0 mset=380.0 mfrac=1.00\n",
      "checkpoint: 0.00380 error at 20000 trials\n",
      "00:00:01.427 trials=25000 train=0.00396 val=0.00387 pset=500.0 mset=375.7 mfrac=1.00\n",
      "00:00:01.835 trials=30000 train=0.00386 val=0.00391 pset=500.0 mset=387.0 mfrac=1.00\n",
      "00:00:02.227 trials=35000 train=0.00371 val=0.00367 pset=500.0 mset=372.0 mfrac=1.00\n",
      "checkpoint: 0.00367 error at 35000 trials\n",
      "00:00:02.159 trials=40000 train=0.00335 val=0.00335 pset=500.0 mset=352.4 mfrac=1.00\n",
      "checkpoint: 0.00335 error at 40000 trials\n",
      "00:00:01.205 trials=45000 train=0.00344 val=0.00377 pset=500.0 mset=356.4 mfrac=0.29\n",
      "00:00:01.232 trials=50000 train=0.00332 val=0.00347 pset=500.0 mset=366.1 mfrac=1.00\n",
      "00:00:01.268 trials=55000 train=0.00333 val=0.00334 pset=500.0 mset=365.2 mfrac=1.00\n",
      "checkpoint: 0.00334 error at 55000 trials\n",
      "00:00:01.247 trials=60000 train=0.00324 val=0.00331 pset=500.0 mset=367.7 mfrac=1.00\n",
      "checkpoint: 0.00331 error at 60000 trials\n",
      "00:00:01.440 trials=65000 train=0.00325 val=0.00329 pset=500.0 mset=359.4 mfrac=1.00\n",
      "checkpoint: 0.00329 error at 65000 trials\n",
      "00:00:02.115 trials=70000 train=0.00318 val=0.00338 pset=500.0 mset=361.2 mfrac=0.57\n",
      "00:00:03.235 trials=75000 train=0.00302 val=0.00337 pset=500.0 mset=359.7 mfrac=1.00\n",
      "00:00:01.910 trials=80000 train=0.00311 val=0.00312 pset=500.0 mset=354.9 mfrac=1.00\n",
      "checkpoint: 0.00312 error at 80000 trials\n",
      "00:00:01.893 trials=85000 train=0.00298 val=0.00303 pset=500.0 mset=378.2 mfrac=1.00\n",
      "checkpoint: 0.00303 error at 85000 trials\n",
      "00:00:02.012 trials=90000 train=0.00311 val=0.00300 pset=500.0 mset=373.9 mfrac=0.81\n",
      "checkpoint: 0.00300 error at 90000 trials\n",
      "00:00:04.741 trials=95000 train=0.00298 val=0.00313 pset=500.0 mset=377.5 mfrac=1.00\n",
      "00:00:02.250 trials=100000 train=0.00302 val=0.00309 pset=500.0 mset=380.8 mfrac=1.00\n",
      "00:00:02.179 trials=105000 train=0.00295 val=0.00293 pset=500.0 mset=379.1 mfrac=1.00\n",
      "checkpoint: 0.00293 error at 105000 trials\n",
      "00:00:02.051 trials=110000 train=0.00293 val=0.00310 pset=500.0 mset=373.8 mfrac=1.00\n",
      "00:00:02.255 trials=115000 train=0.00294 val=0.00288 pset=500.0 mset=376.4 mfrac=1.00\n",
      "checkpoint: 0.00288 error at 115000 trials\n",
      "00:00:02.046 trials=120000 train=0.00298 val=0.00301 pset=500.0 mset=374.0 mfrac=1.00\n",
      "00:00:02.096 trials=125000 train=0.00292 val=0.00290 pset=500.0 mset=380.0 mfrac=1.00\n",
      "00:00:02.192 trials=130000 train=0.00292 val=0.00291 pset=500.0 mset=388.4 mfrac=1.00\n",
      "00:00:02.411 trials=135000 train=0.00284 val=0.00287 pset=500.0 mset=384.4 mfrac=1.00\n",
      "checkpoint: 0.00287 error at 135000 trials\n",
      "00:00:03.151 trials=140000 train=0.00294 val=0.00286 pset=500.0 mset=381.3 mfrac=1.00\n",
      "checkpoint: 0.00286 error at 140000 trials\n",
      "00:00:02.357 trials=145000 train=0.00281 val=0.00294 pset=500.0 mset=378.3 mfrac=1.00\n",
      "00:00:02.296 trials=150000 train=0.00283 val=0.00314 pset=500.0 mset=371.0 mfrac=1.00\n",
      "00:00:02.111 trials=155000 train=0.00278 val=0.00275 pset=500.0 mset=376.1 mfrac=1.00\n",
      "checkpoint: 0.00275 error at 155000 trials\n",
      "00:00:02.060 trials=160000 train=0.00280 val=0.00281 pset=500.0 mset=384.7 mfrac=0.80\n",
      "00:00:02.077 trials=165000 train=0.00284 val=0.00291 pset=500.0 mset=389.5 mfrac=1.00\n",
      "00:00:02.151 trials=170000 train=0.00275 val=0.00283 pset=500.0 mset=390.9 mfrac=1.00\n",
      "00:00:02.118 trials=175000 train=0.00273 val=0.00288 pset=500.0 mset=398.2 mfrac=1.00\n",
      "00:00:04.231 trials=180000 train=0.00275 val=0.00291 pset=500.0 mset=395.4 mfrac=1.00\n",
      "restoring system from trial 155000 with error=0.00275\n",
      "00:01:15.277\n"
     ]
    },
    {
     "data": {
      "text/plain": [
       "<xcsf.xcsf.XCS at 0x7f4548477330>"
      ]
     },
     "execution_count": 6,
     "metadata": {},
     "output_type": "execute_result"
    }
   ],
   "source": [
    "# use optional callback\n",
    "callback = xcsf.EarlyStoppingCallback(\n",
    "    # note: PERF_TRIALS is considered an \"epoch\" for callbacks\n",
    "    monitor=\"val\",  # which metric to monitor: {\"train\", \"val\"}\n",
    "    patience=20000,  # trials with no improvement after which training will be stopped\n",
    "    restore_best=True,  # whether to make checkpoints and restore best population\n",
    "    min_delta=0,  # minimum change to qualify as an improvement\n",
    "    start_from=0,  # trials to wait before starting to monitor improvement\n",
    "    verbose=True,  # whether to display when checkpoints are made\n",
    ")\n",
    "\n",
    "xcs.fit(\n",
    "    X_train, y_train, validation_data=(X_val, y_val), callbacks=[callback], verbose=True\n",
    ")"
   ]
  },
  {
   "cell_type": "markdown",
   "metadata": {},
   "source": [
    "### Plot XCSF learning performance"
   ]
  },
  {
   "cell_type": "code",
   "execution_count": 7,
   "metadata": {
    "scrolled": true
   },
   "outputs": [
    {
     "data": {
      "image/png": "[encoded data removed]",
      "text/plain": [
       "<Figure size 1000x600 with 1 Axes>"
      ]
     },
     "metadata": {},
     "output_type": "display_data"
    }
   ],
   "source": [
    "metrics: dict = xcs.get_metrics()\n",
    "plt.figure(figsize=(10, 6))\n",
    "plt.plot(metrics[\"trials\"], metrics[\"train\"], label=\"Train MSE\")\n",
    "plt.plot(metrics[\"trials\"], metrics[\"val\"], label=\"Validation MSE\")\n",
    "plt.grid(linestyle=\"dotted\", linewidth=1)\n",
    "plt.axhline(y=E0, xmin=0, xmax=1, linestyle=\"dashed\", color=\"k\")\n",
    "plt.title(\"XCSF Training Performance\", fontsize=14)\n",
    "plt.xlabel(\"Trials\", fontsize=12)\n",
    "plt.ylabel(\"Mean Squared Error\", fontsize=12)\n",
    "plt.xlim([0, MAX_TRIALS])\n",
    "plt.legend()\n",
    "plt.show()"
   ]
  },
  {
   "cell_type": "markdown",
   "metadata": {},
   "source": [
    "### Final XCSF test score"
   ]
  },
  {
   "cell_type": "code",
   "execution_count": 8,
   "metadata": {},
   "outputs": [
    {
     "name": "stdout",
     "output_type": "stream",
     "text": [
      "XCSF Test MSE = 0.0033\n"
     ]
    }
   ],
   "source": [
    "xcsf_pred = xcs.predict(X_test)\n",
    "xcsf_mse = mean_squared_error(xcsf_pred, y_test)\n",
    "print(f\"XCSF Test MSE = {xcsf_mse:.4f}\")"
   ]
  },
  {
   "cell_type": "markdown",
   "metadata": {},
   "source": [
    "### Compare with alternatives"
   ]
  },
  {
   "cell_type": "code",
   "execution_count": 9,
   "metadata": {},
   "outputs": [],
   "source": [
    "X_train = np.vstack((X_train, X_val))\n",
    "y_train = np.vstack((y_train, y_val))"
   ]
  },
  {
   "cell_type": "code",
   "execution_count": 10,
   "metadata": {},
   "outputs": [],
   "source": [
    "regressors = []"
   ]
  },
  {
   "cell_type": "code",
   "execution_count": 11,
   "metadata": {},
   "outputs": [],
   "source": [
    "regressors.append(LinearRegression())"
   ]
  },
  {
   "cell_type": "code",
   "execution_count": 12,
   "metadata": {},
   "outputs": [],
   "source": [
    "regressors.append(\n",
    "    MLPRegressor(\n",
    "        random_state=RANDOM_STATE,\n",
    "        hidden_layer_sizes=(40,),\n",
    "        activation=\"relu\",\n",
    "        solver=\"adam\",\n",
    "        learning_rate=\"adaptive\",\n",
    "        learning_rate_init=0.01,\n",
    "        max_iter=1000,\n",
    "        alpha=0.01,\n",
    "        validation_fraction=0.1,\n",
    "    )\n",
    ")"
   ]
  },
  {
   "cell_type": "code",
   "execution_count": 13,
   "metadata": {},
   "outputs": [],
   "source": [
    "regressors.append(RandomForestRegressor(random_state=RANDOM_STATE))"
   ]
  },
  {
   "cell_type": "code",
   "execution_count": 14,
   "metadata": {},
   "outputs": [],
   "source": [
    "regressors.append(GaussianProcessRegressor(random_state=RANDOM_STATE))"
   ]
  },
  {
   "cell_type": "code",
   "execution_count": 15,
   "metadata": {},
   "outputs": [
    {
     "name": "stdout",
     "output_type": "stream",
     "text": [
      "LinearRegression Test MSE = 0.0200\n",
      "MLPRegressor Test MSE = 0.0069\n",
      "RandomForestRegressor Test MSE = 0.0091\n",
      "GaussianProcessRegressor Test MSE = 0.0050\n"
     ]
    }
   ],
   "source": [
    "for model in regressors:\n",
    "    model.fit(X_train, y_train.ravel())\n",
    "    pred = model.predict(X_test)\n",
    "    mse = mean_squared_error(pred, y_test)\n",
    "    print(f\"{model.__class__.__name__} Test MSE = {mse:.4f}\")"
   ]
  },
  {
   "cell_type": "markdown",
   "metadata": {},
   "source": [
    "### Visualise the lowest error rule in the population set"
   ]
  },
  {
   "cell_type": "code",
   "execution_count": 16,
   "metadata": {},
   "outputs": [
    {
     "name": "stdout",
     "output_type": "stream",
     "text": [
      "Condition (matches when output node > 0.5):\n"
     ]
    },
    {
     "data": {
      "image/png": "[encoded data removed]",
      "text/plain": [
       "<IPython.core.display.Image object>"
      ]
     },
     "metadata": {},
     "output_type": "display_data"
    }
   ],
   "source": [
    "print(\"Condition (matches when output node > 0.5):\")\n",
    "parsed = json.loads(xcs.json())\n",
    "parsed = sorted(  # sort population by error\n",
    "    parsed[\"classifiers\"], key=lambda d: d[\"error\"]\n",
    ")\n",
    "trees = [cl[\"condition\"][\"tree\"][\"array\"] for cl in parsed]\n",
    "TreeViz(trees[0], \"best\", feature_names=data.feature_names)\n",
    "with open(\"best.gv\") as f:\n",
    "    dot = f.read()\n",
    "    tree = graphviz.Source(dot)\n",
    "    tree.format = \"png\"\n",
    "    tree.render(\"best\")\n",
    "    display(Image(\"best.png\"))"
   ]
  },
  {
   "cell_type": "code",
   "execution_count": 17,
   "metadata": {},
   "outputs": [
    {
     "name": "stdout",
     "output_type": "stream",
     "text": [
      "Error: 0.00028\n",
      "Fitness: 0.02213\n",
      "Accuracy: 1.00000\n",
      "Average Set Size: 358.90\n",
      "Numerosity: 1\n",
      "Experience: 171\n",
      "Samples Seen: 31240\n",
      "Samples Matched: 222\n"
     ]
    }
   ],
   "source": [
    "def print_attributes(cl: dict) -> None:\n",
    "    \"\"\"Prints a classifier's attributes.\"\"\"\n",
    "    print(f\"Error: {cl['error']:.5f}\")\n",
    "    print(f\"Fitness: {cl['fitness']:.5f}\")\n",
    "    print(f\"Accuracy: {cl['accuracy']:.5f}\")\n",
    "    print(f\"Average Set Size: {cl['set_size']:.2f}\")\n",
    "    print(f\"Numerosity: {cl['numerosity']}\")\n",
    "    print(f\"Experience: {cl['experience']}\")\n",
    "    print(f\"Samples Seen: {cl['samples_seen']}\")\n",
    "    print(f\"Samples Matched: {cl['samples_matched']}\")\n",
    "\n",
    "\n",
    "print_attributes(parsed[0])"
   ]
  }
 ],
 "metadata": {
  "kernelspec": {
   "display_name": "Python 3 (ipykernel)",
   "language": "python",
   "name": "python3"
  },
  "language_info": {
   "codemirror_mode": {
    "name": "ipython",
    "version": 3
   },
   "file_extension": ".py",
   "mimetype": "text/x-python",
   "name": "python",
   "nbconvert_exporter": "python",
   "pygments_lexer": "ipython3",
   "version": "3.10.6"
  }
 },
 "nbformat": 4,
 "nbformat_minor": 4
}
