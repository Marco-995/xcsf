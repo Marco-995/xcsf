{
 "cells": [
  {
   "cell_type": "markdown",
   "metadata": {},
   "source": [
    "### This example demonstrates the XCSF supervised learning mechanisms to perform regression on the Boston house price dataset. Classifiers are composed of tree GP conditions and neural network predictions. A single dummy action is performed such that [A] = [M]."
   ]
  },
  {
   "cell_type": "code",
   "execution_count": 1,
   "metadata": {},
   "outputs": [],
   "source": [
    "from __future__ import annotations\n",
    "\n",
    "from typing import Final\n",
    "\n",
    "import matplotlib.pyplot as plt\n",
    "import numpy as np\n",
    "from sklearn.datasets import fetch_openml\n",
    "from sklearn.linear_model import LinearRegression\n",
    "from sklearn.metrics import mean_squared_error\n",
    "from sklearn.model_selection import train_test_split\n",
    "from sklearn.neural_network import MLPRegressor\n",
    "from sklearn.preprocessing import StandardScaler, minmax_scale\n",
    "from tqdm import tqdm\n",
    "\n",
    "import xcsf\n",
    "\n",
    "np.set_printoptions(suppress=True)"
   ]
  },
  {
   "cell_type": "markdown",
   "metadata": {},
   "source": [
    "### Load training and test data"
   ]
  },
  {
   "cell_type": "code",
   "execution_count": 2,
   "metadata": {},
   "outputs": [
    {
     "name": "stdout",
     "output_type": "stream",
     "text": [
      "X_train shape = (6634, 8)\n",
      "y_train shape = (6634, 1)\n",
      "X_val shape = (738, 8)\n",
      "y_val shape = (738, 1)\n",
      "X_test shape = (820, 8)\n",
      "y_test shape = (820, 1)\n"
     ]
    }
   ],
   "source": [
    "# Load data from https://www.openml.org/d/189\n",
    "data = fetch_openml(data_id=189)\n",
    "\n",
    "# split into training and test sets\n",
    "X_train, X_test, y_train, y_test = train_test_split(\n",
    "    data.data, data.target, test_size=0.1\n",
    ")\n",
    "\n",
    "# numpy\n",
    "X_train = np.asarray(X_train)\n",
    "X_test = np.asarray(X_test)\n",
    "y_train = np.asarray(y_train)\n",
    "y_test = np.asarray(y_test)\n",
    "\n",
    "# reshape into 2D arrays\n",
    "if len(np.shape(y_train)) == 1:\n",
    "    y_train = y_train.reshape(-1, 1)\n",
    "    y_test = y_test.reshape(-1, 1)\n",
    "\n",
    "# normalise inputs (zero mean and unit variance)\n",
    "scaler = StandardScaler()\n",
    "scaler.fit(X_train)\n",
    "X_train = scaler.transform(X_train)\n",
    "X_test = scaler.transform(X_test)\n",
    "\n",
    "# scale outputs [0,1]\n",
    "y_train = minmax_scale(y_train, feature_range=(0, 1))\n",
    "y_test = minmax_scale(y_test, feature_range=(0, 1))\n",
    "\n",
    "# get number of input and output variables\n",
    "X_DIM: Final[int] = np.shape(X_train)[1]\n",
    "Y_DIM: Final[int] = np.shape(y_train)[1]\n",
    "\n",
    "# 10% of training for validation\n",
    "X_train, X_val, y_train, y_val = train_test_split(X_train, y_train, test_size=0.1)\n",
    "\n",
    "print(f\"X_train shape = {np.shape(X_train)}\")\n",
    "print(f\"y_train shape = {np.shape(y_train)}\")\n",
    "print(f\"X_val shape = {np.shape(X_val)}\")\n",
    "print(f\"y_val shape = {np.shape(y_val)}\")\n",
    "print(f\"X_test shape = {np.shape(X_test)}\")\n",
    "print(f\"y_test shape = {np.shape(y_test)}\")"
   ]
  },
  {
   "cell_type": "markdown",
   "metadata": {},
   "source": [
    "### Initialise XCSF"
   ]
  },
  {
   "cell_type": "code",
   "execution_count": 3,
   "metadata": {},
   "outputs": [
    {
     "name": "stdout",
     "output_type": "stream",
     "text": [
      "{\n",
      "\t\"version\":\t\"1.1.6\",\n",
      "\t\"x_dim\":\t8,\n",
      "\t\"y_dim\":\t1,\n",
      "\t\"n_actions\":\t1,\n",
      "\t\"omp_num_threads\":\t8,\n",
      "\t\"pop_init\":\ttrue,\n",
      "\t\"max_trials\":\t1000,\n",
      "\t\"perf_trials\":\t1000,\n",
      "\t\"pop_size\":\t500,\n",
      "\t\"loss_func\":\t\"mse\",\n",
      "\t\"set_subsumption\":\tfalse,\n",
      "\t\"theta_sub\":\t100,\n",
      "\t\"e0\":\t0.005,\n",
      "\t\"alpha\":\t1,\n",
      "\t\"nu\":\t20,\n",
      "\t\"beta\":\t0.1,\n",
      "\t\"delta\":\t0.1,\n",
      "\t\"theta_del\":\t50,\n",
      "\t\"init_fitness\":\t0.01,\n",
      "\t\"init_error\":\t0,\n",
      "\t\"m_probation\":\t10000,\n",
      "\t\"stateful\":\ttrue,\n",
      "\t\"compaction\":\tfalse,\n",
      "\t\"ea\":\t{\n",
      "\t\t\"select_type\":\t\"roulette\",\n",
      "\t\t\"theta_ea\":\t50,\n",
      "\t\t\"lambda\":\t2,\n",
      "\t\t\"p_crossover\":\t0.8,\n",
      "\t\t\"err_reduc\":\t1,\n",
      "\t\t\"fit_reduc\":\t0.1,\n",
      "\t\t\"subsumption\":\tfalse,\n",
      "\t\t\"pred_reset\":\tfalse\n",
      "\t},\n",
      "\t\"condition\":\t{\n",
      "\t\t\"type\":\t\"tree_gp\",\n",
      "\t\t\"args\":\t{\n",
      "\t\t\t\"min_constant\":\t0,\n",
      "\t\t\t\"max_constant\":\t1,\n",
      "\t\t\t\"n_constants\":\t100,\n",
      "\t\t\t\"init_depth\":\t5,\n",
      "\t\t\t\"max_len\":\t10000\n",
      "\t\t}\n",
      "\t},\n",
      "\t\"prediction\":\t{\n",
      "\t\t\"type\":\t\"neural\",\n",
      "\t\t\"args\":\t{\n",
      "\t\t\t\"layer_0\":\t{\n",
      "\t\t\t\t\"type\":\t\"connected\",\n",
      "\t\t\t\t\"activation\":\t\"relu\",\n",
      "\t\t\t\t\"n_inputs\":\t8,\n",
      "\t\t\t\t\"n_init\":\t10,\n",
      "\t\t\t\t\"evolve_weights\":\ttrue,\n",
      "\t\t\t\t\"evolve_functions\":\tfalse,\n",
      "\t\t\t\t\"evolve_connect\":\ttrue,\n",
      "\t\t\t\t\"evolve_neurons\":\tfalse,\n",
      "\t\t\t\t\"sgd_weights\":\ttrue,\n",
      "\t\t\t\t\"eta\":\t0.1,\n",
      "\t\t\t\t\"evolve_eta\":\ttrue,\n",
      "\t\t\t\t\"eta_min\":\t1e-06,\n",
      "\t\t\t\t\"momentum\":\t0.9,\n",
      "\t\t\t\t\"decay\":\t0\n",
      "\t\t\t},\n",
      "\t\t\t\"layer_1\":\t{\n",
      "\t\t\t\t\"type\":\t\"connected\",\n",
      "\t\t\t\t\"activation\":\t\"softplus\",\n",
      "\t\t\t\t\"n_inputs\":\t10,\n",
      "\t\t\t\t\"n_init\":\t1,\n",
      "\t\t\t\t\"evolve_weights\":\ttrue,\n",
      "\t\t\t\t\"evolve_functions\":\tfalse,\n",
      "\t\t\t\t\"evolve_connect\":\ttrue,\n",
      "\t\t\t\t\"evolve_neurons\":\tfalse,\n",
      "\t\t\t\t\"sgd_weights\":\ttrue,\n",
      "\t\t\t\t\"eta\":\t0.1,\n",
      "\t\t\t\t\"evolve_eta\":\ttrue,\n",
      "\t\t\t\t\"eta_min\":\t1e-06,\n",
      "\t\t\t\t\"momentum\":\t0.9,\n",
      "\t\t\t\t\"decay\":\t0\n",
      "\t\t\t}\n",
      "\t\t}\n",
      "\t}\n",
      "}\n"
     ]
    }
   ],
   "source": [
    "xcs: xcsf.XCS = xcsf.XCS(X_DIM, Y_DIM, 1)  # initialise for supervised learning\n",
    "\n",
    "xcs.OMP_NUM_THREADS = 8  # number of CPU cores to use\n",
    "xcs.POP_SIZE = 500  # maximum population size\n",
    "xcs.MAX_TRIALS = 1000  # number of trials per fit()\n",
    "xcs.LOSS_FUNC = \"mse\"  # mean squared error\n",
    "xcs.E0 = 0.005  # target error\n",
    "xcs.ALPHA = 1  # accuracy offset\n",
    "xcs.NU = 20  # accuracy slope\n",
    "xcs.THETA_EA = 50  # EA invocation frequency\n",
    "xcs.THETA_DEL = 50  # min experience before fitness used in deletion\n",
    "xcs.BETA = 0.1  # update rate for error, etc.\n",
    "xcs.action(\"integer\")  # (dummy) integer actions\n",
    "\n",
    "TREE_ARGS: Final[dict] = {\n",
    "    \"min_constant\": 0,  # minimum value of a constant\n",
    "    \"max_constant\": 1,  # maximum value of a constant\n",
    "    \"n_constants\": 100,  # number of (global) constants\n",
    "    \"init_depth\": 5,  # initial tree depth\n",
    "    \"max_len\": 10000,  # maximum initial length\n",
    "}\n",
    "xcs.condition(\"tree_gp\", TREE_ARGS)  # GP tree conditions\n",
    "\n",
    "PREDICTION_LAYERS: Final[dict] = {\n",
    "    \"layer_0\": {  # hidden layer\n",
    "        \"type\": \"connected\",\n",
    "        \"activation\": \"relu\",\n",
    "        \"sgd_weights\": True,\n",
    "        \"evolve_weights\": True,\n",
    "        \"evolve_connect\": True,\n",
    "        \"evolve_eta\": True,\n",
    "        \"eta\": 0.1,\n",
    "        \"eta_min\": 0.000001,\n",
    "        \"momentum\": 0.9,\n",
    "        \"n_init\": 10,\n",
    "        \"n_max\": 10,\n",
    "    },\n",
    "    \"layer_1\": {  # output layer\n",
    "        \"type\": \"connected\",\n",
    "        \"activation\": \"softplus\",\n",
    "        \"sgd_weights\": True,\n",
    "        \"evolve_weights\": True,\n",
    "        \"evolve_connect\": True,\n",
    "        \"evolve_eta\": True,\n",
    "        \"eta\": 0.1,\n",
    "        \"eta_min\": 0.000001,\n",
    "        \"momentum\": 0.9,\n",
    "        \"n_init\": Y_DIM,\n",
    "    },\n",
    "}\n",
    "xcs.prediction(\"neural\", PREDICTION_LAYERS)  # neural network predictions\n",
    "\n",
    "print(xcs.json_parameters())"
   ]
  },
  {
   "cell_type": "markdown",
   "metadata": {},
   "source": [
    "### Run experiment"
   ]
  },
  {
   "cell_type": "code",
   "execution_count": 4,
   "metadata": {},
   "outputs": [
    {
     "name": "stderr",
     "output_type": "stream",
     "text": [
      "trials=200000 train_mse=0.00479 val_mse=0.00421 psize=500.0 msize=310.7: 100%|█|\n"
     ]
    }
   ],
   "source": [
    "N: Final[int] = 200  # 200,000 trials\n",
    "trials: np.ndarray = np.zeros(N)\n",
    "psize: np.ndarray = np.zeros(N)\n",
    "msize: np.ndarray = np.zeros(N)\n",
    "train_mse: np.ndarray = np.zeros(N)\n",
    "val_mse: np.ndarray = np.zeros(N)\n",
    "\n",
    "VAL_PERIOD: Final[int] = 10  # validation mean moving average length\n",
    "val_min: float = 999999  # minimum validation error\n",
    "val_trial: int = 0  # trial number the system was checkpointed\n",
    "\n",
    "bar = tqdm(total=N)  # progress bar\n",
    "for i in range(N):\n",
    "    # train\n",
    "    train_mse[i] = xcs.fit(X_train, y_train, True)  # True = shuffle\n",
    "    trials[i] = xcs.time()  # number of trials so far\n",
    "    psize[i] = xcs.pset_size()  # current population size\n",
    "    msize[i] = xcs.mset_size()  # avg match set size\n",
    "    # validate\n",
    "    val_mse[i] = xcs.score(X_val, y_val)\n",
    "    if i > VAL_PERIOD:  # simple moving average of mean validation error\n",
    "        val_mean = np.mean(val_mse[i - VAL_PERIOD : i])\n",
    "        if val_mean < val_min:  # checkpoint lowest validation error\n",
    "            xcs.store()\n",
    "            val_min = val_mean\n",
    "            val_trial = trials[i]\n",
    "    status = (  # update status\n",
    "        f\"trials={trials[i]:.0f} \"\n",
    "        f\"train_mse={train_mse[i]:.5f} \"\n",
    "        f\"val_mse={val_mse[i]:.5f} \"\n",
    "        f\"psize={psize[i]:.1f} \"\n",
    "        f\"msize={msize[i]:.1f}\"\n",
    "    )\n",
    "    bar.set_description(status)\n",
    "    bar.refresh()\n",
    "    bar.update(1)\n",
    "bar.close()"
   ]
  },
  {
   "cell_type": "markdown",
   "metadata": {},
   "source": [
    "### Plot XCSF learning performance"
   ]
  },
  {
   "cell_type": "code",
   "execution_count": 5,
   "metadata": {},
   "outputs": [
    {
     "data": {
      "image/png": "[encoded data removed]",
      "text/plain": [
       "<Figure size 720x432 with 1 Axes>"
      ]
     },
     "metadata": {
      "needs_background": "light"
     },
     "output_type": "display_data"
    }
   ],
   "source": [
    "plt.figure(figsize=(10, 6))\n",
    "plt.plot(trials, train_mse, label=\"Train MSE\")\n",
    "plt.plot(trials, val_mse, label=\"Validation MSE\")\n",
    "plt.grid(linestyle=\"dotted\", linewidth=1)\n",
    "plt.axhline(y=xcs.E0, xmin=0, xmax=1, linestyle=\"dashed\", color=\"k\")\n",
    "plt.title(\"XCSF Training Performance\", fontsize=14)\n",
    "plt.xlabel(\"Trials\", fontsize=12)\n",
    "plt.ylabel(\"Mean Squared Error\", fontsize=12)\n",
    "plt.xlim([0, N * xcs.MAX_TRIALS])\n",
    "plt.legend()\n",
    "plt.show()"
   ]
  },
  {
   "cell_type": "markdown",
   "metadata": {},
   "source": [
    "### Compare with alternatives"
   ]
  },
  {
   "cell_type": "code",
   "execution_count": 6,
   "metadata": {},
   "outputs": [
    {
     "name": "stdout",
     "output_type": "stream",
     "text": [
      "Restoring system from trial 191000 with val_mse=0.00428\n",
      "XCSF Test MSE = 0.0062\n",
      "Linear regression Test MSE = 0.0239\n",
      "MLP Regressor Test MSE = 0.0080\n"
     ]
    }
   ],
   "source": [
    "# final XCSF test score\n",
    "print(f\"Restoring system from trial {val_trial:.0f} with val_mse={val_min:.5f}\")\n",
    "xcs.retrieve()\n",
    "xcsf_pred = xcs.predict(X_test)\n",
    "xcsf_mse = mean_squared_error(xcsf_pred, y_test)\n",
    "print(f\"XCSF Test MSE = {xcsf_mse:.4f}\")\n",
    "\n",
    "# compare with linear regression\n",
    "lm = LinearRegression()\n",
    "lm.fit(X_train, y_train)\n",
    "lm_pred = lm.predict(X_test)\n",
    "lm_mse = mean_squared_error(lm_pred, y_test)\n",
    "print(f\"Linear regression Test MSE = {lm_mse:.4f}\")\n",
    "\n",
    "# compare with MLP regressor\n",
    "X_train = np.vstack((X_train, X_val))\n",
    "y_train = np.vstack((y_train, y_val))\n",
    "mlp = MLPRegressor(\n",
    "    hidden_layer_sizes=(10,),\n",
    "    activation=\"relu\",\n",
    "    solver=\"adam\",\n",
    "    learning_rate=\"adaptive\",\n",
    "    learning_rate_init=0.01,\n",
    "    max_iter=1000,\n",
    "    alpha=0.01,\n",
    "    validation_fraction=0.1,\n",
    ")\n",
    "mlp.fit(X_train, y_train.ravel())\n",
    "mlp_pred = mlp.predict(X_test)\n",
    "mlp_mse = mean_squared_error(mlp_pred, y_test)\n",
    "print(f\"MLP Regressor Test MSE = {mlp_mse:.4f}\")"
   ]
  },
  {
   "cell_type": "markdown",
   "metadata": {},
   "source": [
    "### Show some predictions vs. answers"
   ]
  },
  {
   "cell_type": "code",
   "execution_count": 7,
   "metadata": {},
   "outputs": [
    {
     "name": "stdout",
     "output_type": "stream",
     "text": [
      "*****************************\n",
      "first 10 predictions = \n",
      "[[0.51109002]\n",
      " [0.63848591]\n",
      " [0.30761656]\n",
      " [0.57775982]\n",
      " [0.88727473]\n",
      " [0.57971158]\n",
      " [0.36386609]\n",
      " [0.39086393]\n",
      " [0.51336711]\n",
      " [0.42815228]]\n",
      "*****************************\n",
      "first 10 answers = \n",
      "[[0.46317407]\n",
      " [0.73366004]\n",
      " [0.1983963 ]\n",
      " [0.57780089]\n",
      " [0.94174278]\n",
      " [0.58153279]\n",
      " [0.27944002]\n",
      " [0.41401726]\n",
      " [0.53636454]\n",
      " [0.45255843]]\n"
     ]
    }
   ],
   "source": [
    "pred = xcs.predict(X_test[:10])\n",
    "print(\"*****************************\")\n",
    "print(\"first 10 predictions = \")\n",
    "print(pred[:10])\n",
    "print(\"*****************************\")\n",
    "print(\"first 10 answers = \")\n",
    "print(y_test[:10])"
   ]
  },
  {
   "cell_type": "code",
   "execution_count": null,
   "metadata": {},
   "outputs": [],
   "source": []
  }
 ],
 "metadata": {
  "kernelspec": {
   "display_name": "Python 3 (ipykernel)",
   "language": "python",
   "name": "python3"
  },
  "language_info": {
   "codemirror_mode": {
    "name": "ipython",
    "version": 3
   },
   "file_extension": ".py",
   "mimetype": "text/x-python",
   "name": "python",
   "nbconvert_exporter": "python",
   "pygments_lexer": "ipython3",
   "version": "3.8.10"
  }
 },
 "nbformat": 4,
 "nbformat_minor": 4
}
