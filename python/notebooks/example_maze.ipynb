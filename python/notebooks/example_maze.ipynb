{
 "cells": [
  {
   "cell_type": "markdown",
   "metadata": {},
   "source": [
    "### This example demonstrates the XCSF multi-step reinforcement learning mechanisms\n",
    "Discrete mazes are loaded from a specified input file."
   ]
  },
  {
   "cell_type": "code",
   "execution_count": 1,
   "metadata": {},
   "outputs": [],
   "source": [
    "from __future__ import annotations\n",
    "\n",
    "import os\n",
    "import random\n",
    "import sys\n",
    "from typing import Final\n",
    "\n",
    "import matplotlib.pyplot as plt\n",
    "import numpy as np\n",
    "from tqdm import tqdm\n",
    "\n",
    "import xcsf"
   ]
  },
  {
   "cell_type": "markdown",
   "metadata": {},
   "source": [
    "### Create maze problem class"
   ]
  },
  {
   "cell_type": "code",
   "execution_count": 2,
   "metadata": {},
   "outputs": [],
   "source": [
    "class Maze:\n",
    "    \"\"\"\n",
    "    Maze problem environment.\n",
    "\n",
    "    The maze class reads in the chosen maze from a file where each entry\n",
    "    specifies a distinct position in the maze. The maze is toroidal and if the\n",
    "    agent/animat reaches one edge it can reenter the maze from the other side.\n",
    "    Obstacles are coded as 'O' and 'Q', empty positions as '*', and food as 'F'\n",
    "    or 'G'. The 8 adjacent cells are perceived by the animat and 8 movements\n",
    "    are possible to one of the adjacent cells (if not blocked.) The animat is\n",
    "    initially placed at a random empty position. The goal is to find the\n",
    "    shortest path to the food.\n",
    "\n",
    "    Some mazes require a form of memory to be solved optimally.\n",
    "    \"\"\"\n",
    "\n",
    "    OPTIMAL: Final[dict] = {\n",
    "        \"woods1\": 1.7,\n",
    "        \"woods2\": 1.7,\n",
    "        \"woods14\": 9.5,\n",
    "        \"maze4\": 3.5,\n",
    "        \"maze5\": 4.61,\n",
    "        \"maze6\": 5.19,\n",
    "        \"maze7\": 4.33,\n",
    "        \"maze10\": 5.11,\n",
    "        \"woods101\": 2.9,\n",
    "        \"woods101half\": 3.1,\n",
    "        \"woods102\": 3.31,\n",
    "        \"mazef1\": 1.8,\n",
    "        \"mazef2\": 2.5,\n",
    "        \"mazef3\": 3.375,\n",
    "        \"mazef4\": 4.5,\n",
    "    }\n",
    "    MAX_PAYOFF: Final[float] = 1  #: reward for finding the goal\n",
    "    X_MOVES: Final[list[int]] = [0, 1, 1, 1, 0, -1, -1, -1]  #: x-axis moves\n",
    "    Y_MOVES: Final[list[int]] = [-1, -1, 0, 1, 1, 1, 0, -1]  #: y-axis moves\n",
    "\n",
    "    def __init__(self, filename: str) -> None:\n",
    "        \"\"\"Constructs a new maze problem.\"\"\"\n",
    "        self.name: Final[str] = filename  #: maze name\n",
    "        self.maze: list[list[str]] = []  #: maze as read from the input file\n",
    "        line: list[str] = []\n",
    "        path = os.path.normpath(\"../../env/maze/\" + filename + \".txt\")\n",
    "        with open(path) as f:\n",
    "            while True:\n",
    "                c = f.read(1)\n",
    "                if not c:\n",
    "                    break\n",
    "                if c == \"\\n\":\n",
    "                    self.maze.insert(0, line)\n",
    "                    line = []\n",
    "                else:\n",
    "                    line.append(c)\n",
    "        self.x_size: Final[int] = len(self.maze[0])  #: maze width\n",
    "        self.y_size: Final[int] = len(self.maze)  #: maze height\n",
    "        self.state: np.ndarray = np.zeros(8)  #: current maze state\n",
    "        self.x_pos: int = 0  #: current x position within the maze\n",
    "        self.y_pos: int = 0  #: current y position within the maze\n",
    "\n",
    "    def reset(self) -> np.ndarray:\n",
    "        \"\"\"Resets a maze problem: generating a new random start position.\"\"\"\n",
    "        while True:\n",
    "            self.x_pos = random.randint(0, self.x_size - 1)\n",
    "            self.y_pos = random.randint(0, self.y_size - 1)\n",
    "            if self.maze[self.y_pos][self.x_pos] == \"*\":\n",
    "                break\n",
    "        self.update_state()\n",
    "        return np.copy(self.state)\n",
    "\n",
    "    def sensor(self, x_pos: int, y_pos: int) -> float:\n",
    "        \"\"\"Returns the real-number representation of a discrete maze cell.\"\"\"\n",
    "        s: Final[str] = self.maze[y_pos][x_pos]\n",
    "        if s == \"*\":\n",
    "            return 0.1\n",
    "        if s == \"O\":\n",
    "            return 0.3\n",
    "        if s == \"Q\":\n",
    "            return 0.4\n",
    "        if s == \"G\":\n",
    "            return 0.7\n",
    "        if s == \"F\":\n",
    "            return 0.9\n",
    "        print(f\"invalid maze state: {s}\")\n",
    "        sys.exit()\n",
    "\n",
    "    def update_state(self) -> None:\n",
    "        \"\"\"Sets the state to a real-vector representing the sensory input.\"\"\"\n",
    "        spos: int = 0\n",
    "        for i in range(-1, 2):\n",
    "            for j in range(-1, 2):\n",
    "                if j == 0 and i == 0:\n",
    "                    continue\n",
    "                x = ((self.x_pos + j) % self.x_size + self.x_size) % self.x_size\n",
    "                y = ((self.y_pos + i) % self.y_size + self.y_size) % self.y_size\n",
    "                self.state[spos] = self.sensor(x, y)\n",
    "                spos += 1\n",
    "\n",
    "    def step(self, act: int) -> tuple[np.ndarray, float, bool]:\n",
    "        \"\"\"\n",
    "        Takes a step in the maze, performing the specified action.\n",
    "        Returns next state, immediate reward and whether terminal state reached.\n",
    "        \"\"\"\n",
    "        if act < 0 or act > 7:\n",
    "            print(\"invalid maze action\")\n",
    "            sys.exit()\n",
    "        x_vec: Final[int] = Maze.X_MOVES[act]\n",
    "        y_vec: Final[int] = Maze.Y_MOVES[act]\n",
    "        x_new: int = ((self.x_pos + x_vec) % self.x_size + self.x_size) % self.x_size\n",
    "        y_new: int = ((self.y_pos + y_vec) % self.y_size + self.y_size) % self.y_size\n",
    "        s: Final[str] = self.maze[y_new][x_new]\n",
    "        if s in (\"O\", \"Q\"):\n",
    "            return np.copy(self.state), 0, False\n",
    "        self.x_pos = x_new\n",
    "        self.y_pos = y_new\n",
    "        self.update_state()\n",
    "        if s == \"*\":\n",
    "            return np.copy(self.state), 0, False\n",
    "        if s in (\"F\", \"G\"):\n",
    "            return np.copy(self.state), self.max_payoff(), True\n",
    "        print(\"invalid maze type\")\n",
    "        sys.exit()\n",
    "\n",
    "    def optimal(self) -> float:\n",
    "        \"\"\"Returns the optimal number of steps to the goal.\"\"\"\n",
    "        return Maze.OPTIMAL[self.name]\n",
    "\n",
    "    def max_payoff(self) -> float:\n",
    "        \"\"\"Returns the reward for reaching the goal state.\"\"\"\n",
    "        return float(Maze.MAX_PAYOFF)\n",
    "\n",
    "    def display(self) -> None:\n",
    "        \"\"\"Prints the maze problem.\"\"\"\n",
    "        for row in maze.maze:\n",
    "            print(*row, sep=\"\")"
   ]
  },
  {
   "cell_type": "markdown",
   "metadata": {},
   "source": [
    "### Instantiate a new maze problem"
   ]
  },
  {
   "cell_type": "code",
   "execution_count": 3,
   "metadata": {},
   "outputs": [],
   "source": [
    "maze: Maze = Maze(\"maze4\")"
   ]
  },
  {
   "cell_type": "code",
   "execution_count": 4,
   "metadata": {},
   "outputs": [
    {
     "name": "stdout",
     "output_type": "stream",
     "text": [
      "OOOOOOOO\n",
      "O****O*O\n",
      "OO*O***O\n",
      "O******O\n",
      "OO*O**OO\n",
      "OO**O**O\n",
      "O**O**FO\n",
      "OOOOOOOO\n"
     ]
    }
   ],
   "source": [
    "maze.display()"
   ]
  },
  {
   "cell_type": "code",
   "execution_count": 5,
   "metadata": {},
   "outputs": [
    {
     "name": "stdout",
     "output_type": "stream",
     "text": [
      "Optimal (average) number of steps to goal: 3.5\n"
     ]
    }
   ],
   "source": [
    "print(f\"Optimal (average) number of steps to goal: {maze.optimal()}\")"
   ]
  },
  {
   "cell_type": "code",
   "execution_count": 6,
   "metadata": {},
   "outputs": [
    {
     "name": "stdout",
     "output_type": "stream",
     "text": [
      "Reward for reaching the goal: 1.0\n"
     ]
    }
   ],
   "source": [
    "print(f\"Reward for reaching the goal: {maze.max_payoff()}\")"
   ]
  },
  {
   "cell_type": "markdown",
   "metadata": {},
   "source": [
    "### Initialise XCSF"
   ]
  },
  {
   "cell_type": "code",
   "execution_count": 7,
   "metadata": {},
   "outputs": [
    {
     "name": "stdout",
     "output_type": "stream",
     "text": [
      "{\n",
      "\t\"version\":\t\"1.1.6\",\n",
      "\t\"x_dim\":\t8,\n",
      "\t\"y_dim\":\t1,\n",
      "\t\"n_actions\":\t8,\n",
      "\t\"omp_num_threads\":\t8,\n",
      "\t\"pop_init\":\ttrue,\n",
      "\t\"max_trials\":\t100000,\n",
      "\t\"perf_trials\":\t50,\n",
      "\t\"pop_size\":\t1000,\n",
      "\t\"loss_func\":\t\"mae\",\n",
      "\t\"gamma\":\t0.95,\n",
      "\t\"teletransportation\":\t50,\n",
      "\t\"p_explore\":\t0.9,\n",
      "\t\"set_subsumption\":\ttrue,\n",
      "\t\"theta_sub\":\t100,\n",
      "\t\"e0\":\t0.001,\n",
      "\t\"alpha\":\t0.1,\n",
      "\t\"nu\":\t5,\n",
      "\t\"beta\":\t0.2,\n",
      "\t\"delta\":\t0.1,\n",
      "\t\"theta_del\":\t20,\n",
      "\t\"init_fitness\":\t0.01,\n",
      "\t\"init_error\":\t0,\n",
      "\t\"m_probation\":\t10000,\n",
      "\t\"stateful\":\ttrue,\n",
      "\t\"compaction\":\tfalse,\n",
      "\t\"ea\":\t{\n",
      "\t\t\"select_type\":\t\"roulette\",\n",
      "\t\t\"theta_ea\":\t25,\n",
      "\t\t\"lambda\":\t2,\n",
      "\t\t\"p_crossover\":\t0.8,\n",
      "\t\t\"err_reduc\":\t1,\n",
      "\t\t\"fit_reduc\":\t0.1,\n",
      "\t\t\"subsumption\":\ttrue,\n",
      "\t\t\"pred_reset\":\tfalse\n",
      "\t},\n",
      "\t\"action\":\t{\n",
      "\t\t\"type\":\t\"integer\"\n",
      "\t},\n",
      "\t\"condition\":\t{\n",
      "\t\t\"type\":\t\"ternary\",\n",
      "\t\t\"args\":\t{\n",
      "\t\t\t\"p_dontcare\":\t0.5,\n",
      "\t\t\t\"bits\":\t2\n",
      "\t\t}\n",
      "\t},\n",
      "\t\"prediction\":\t{\n",
      "\t\t\"type\":\t\"rls_linear\",\n",
      "\t\t\"args\":\t{\n",
      "\t\t\t\"x0\":\t1,\n",
      "\t\t\t\"lambda\":\t1,\n",
      "\t\t\t\"scale_factor\":\t1000\n",
      "\t\t}\n",
      "\t}\n",
      "}\n"
     ]
    }
   ],
   "source": [
    "# initialise XCSF for reinforcement learning\n",
    "X_DIM: Final[int] = 8\n",
    "Y_DIM: Final[int] = 1\n",
    "N_ACTIONS: Final[int] = 8\n",
    "xcs: xcsf.XCS = xcsf.XCS(X_DIM, Y_DIM, N_ACTIONS)\n",
    "\n",
    "xcs.OMP_NUM_THREADS = 8\n",
    "xcs.POP_SIZE = 1000\n",
    "xcs.PERF_TRIALS = 50\n",
    "xcs.E0 = 0.001  # target error\n",
    "xcs.BETA = 0.2  # classifier parameter update rate\n",
    "xcs.THETA_EA = 25  # EA frequency\n",
    "xcs.ALPHA = 0.1  # accuracy offset\n",
    "xcs.NU = 5  # accuracy slope\n",
    "xcs.EA_SUBSUMPTION = True\n",
    "xcs.SET_SUBSUMPTION = True\n",
    "xcs.THETA_SUB = 100  # minimum experience of a subsumer\n",
    "xcs.action(\"integer\")  # integer actions\n",
    "xcs.condition(\"ternary\", {\"bits\": 2})  # ternary conditions: 2-bits per float\n",
    "xcs.prediction(\"rls_linear\")  # linear recursive least squares predictions\n",
    "\n",
    "print(xcs.json_parameters())"
   ]
  },
  {
   "cell_type": "markdown",
   "metadata": {},
   "source": [
    "### Execute experiment"
   ]
  },
  {
   "cell_type": "code",
   "execution_count": 8,
   "metadata": {},
   "outputs": [
    {
     "name": "stderr",
     "output_type": "stream",
     "text": [
      "trials=2000 steps=3.46 error=0.00002 psize=856.0 msize=185.8: 100%|████████████████████████████████████████████████████████████████████████████████████████████████████████| 40/40 [00:09<00:00,  4.34it/s]\n"
     ]
    }
   ],
   "source": [
    "N: Final[int] = 40  # 2,000 trials\n",
    "trials: np.ndarray = np.zeros(N)\n",
    "psize: np.ndarray = np.zeros(N)\n",
    "msize: np.ndarray = np.zeros(N)\n",
    "steps: np.ndarray = np.zeros(N)\n",
    "error: np.ndarray = np.zeros(N)\n",
    "\n",
    "\n",
    "def trial(env: Maze, explore: bool) -> tuple[int, float]:\n",
    "    \"\"\"Executes a single trial/episode.\"\"\"\n",
    "    err: float = 0\n",
    "    cnt: int = 0\n",
    "    state: np.ndarray = env.reset()\n",
    "    xcs.init_trial()\n",
    "    while cnt < xcs.TELETRANSPORTATION:\n",
    "        xcs.init_step()\n",
    "        action = xcs.decision(state, explore)\n",
    "        next_state, reward, done = env.step(action)\n",
    "        xcs.update(reward, done)\n",
    "        err += xcs.error(reward, done, env.max_payoff())\n",
    "        xcs.end_step()\n",
    "        cnt += 1\n",
    "        if done:\n",
    "            break\n",
    "        state = next_state\n",
    "    xcs.end_trial()\n",
    "    return cnt, err / cnt\n",
    "\n",
    "\n",
    "def run_experiment(env: Maze) -> None:\n",
    "    \"\"\"Executes a single experiment.\"\"\"\n",
    "    bar = tqdm(total=N)  # progress bar\n",
    "    for i in range(N):\n",
    "        for _ in range(xcs.PERF_TRIALS):\n",
    "            trial(env, True)  # explore\n",
    "            cnt, err = trial(env, False)  # exploit\n",
    "            steps[i] += cnt\n",
    "            error[i] += err\n",
    "        steps[i] /= float(xcs.PERF_TRIALS)\n",
    "        error[i] /= float(xcs.PERF_TRIALS)\n",
    "        trials[i] = (i + 1) * xcs.PERF_TRIALS\n",
    "        psize[i] = xcs.pset_size()  # current population size\n",
    "        msize[i] = xcs.mset_size()  # avg match set size\n",
    "        status = (  # update status\n",
    "            f\"trials={trials[i]:.0f} \"\n",
    "            f\"steps={steps[i]:.2f} \"\n",
    "            f\"error={error[i]:.5f} \"\n",
    "            f\"psize={psize[i]:.1f} \"\n",
    "            f\"msize={msize[i]:.1f}\"\n",
    "        )\n",
    "        bar.set_description(status)\n",
    "        bar.refresh()\n",
    "        bar.update(1)\n",
    "    bar.close()\n",
    "\n",
    "\n",
    "run_experiment(maze)"
   ]
  },
  {
   "cell_type": "markdown",
   "metadata": {},
   "source": [
    "### Plot learning performance"
   ]
  },
  {
   "cell_type": "code",
   "execution_count": 9,
   "metadata": {},
   "outputs": [
    {
     "data": {
      "image/png": "[encoded data removed]",
      "text/plain": [
       "<Figure size 720x432 with 1 Axes>"
      ]
     },
     "metadata": {
      "needs_background": "light"
     },
     "output_type": "display_data"
    }
   ],
   "source": [
    "def plot_performance(env: Maze):\n",
    "    \"\"\"Plots learning performance.\"\"\"\n",
    "    plt.figure(figsize=(10, 6))\n",
    "    plt.plot(trials, steps)\n",
    "    plt.grid(linestyle=\"dotted\", linewidth=1)\n",
    "    plt.axhline(y=env.optimal(), xmin=0, xmax=1, linestyle=\"--\", color=\"k\")\n",
    "    plt.title(env.name, fontsize=14)\n",
    "    plt.ylabel(\"Steps to Goal\", fontsize=12)\n",
    "    plt.xlabel(\"Trials\", fontsize=12)\n",
    "    plt.xlim([0, N * xcs.PERF_TRIALS])\n",
    "    plt.show()\n",
    "\n",
    "\n",
    "plot_performance(maze)"
   ]
  },
  {
   "cell_type": "markdown",
   "metadata": {},
   "source": [
    "### Visualise some runs"
   ]
  },
  {
   "cell_type": "code",
   "execution_count": 10,
   "metadata": {},
   "outputs": [
    {
     "name": "stdout",
     "output_type": "stream",
     "text": [
      "Press enter to exit.\n"
     ]
    },
    {
     "data": {
      "image/png": "[encoded data removed]",
      "text/plain": [
       "<PIL.PngImagePlugin.PngImageFile image mode=RGB size=1051x546 at 0x7FE391831580>"
      ]
     },
     "metadata": {},
     "output_type": "display_data"
    }
   ],
   "source": [
    "import io\n",
    "from PIL import Image\n",
    "from turtle import Screen, Turtle\n",
    "from IPython.display import display\n",
    "\n",
    "GRID_WIDTH: Final[int] = maze.x_size\n",
    "GRID_HEIGHT: Final[int] = maze.y_size\n",
    "CELL_SIZE: Final[int] = 20\n",
    "WIDTH: Final[int] = 1400\n",
    "HEIGHT: Final[int] = 720\n",
    "screen = Screen()\n",
    "screen.setup(WIDTH + 4, HEIGHT + 8)\n",
    "screen.setworldcoordinates(0, 0, WIDTH, HEIGHT)\n",
    "\n",
    "\n",
    "def draw_maze(xoff: int, yoff: int) -> None:\n",
    "    \"\"\"Draws the background and outline of the current maze.\"\"\"\n",
    "    bg = Turtle(visible=False)\n",
    "    screen.tracer(False)\n",
    "    bg.penup()\n",
    "    bg.speed(\"fastest\")\n",
    "    bg.shape(\"square\")\n",
    "    bg.shapesize(1, 1)\n",
    "    for y in range(maze.y_size):\n",
    "        for x in range(maze.x_size):\n",
    "            s = maze.maze[y][x]\n",
    "            if s == \"*\":\n",
    "                bg.color(\"white\")\n",
    "            if s == \"O\":\n",
    "                bg.color(\"black\")\n",
    "            if s == \"G\":\n",
    "                bg.color(\"yellow\")\n",
    "            if s == \"F\":\n",
    "                bg.color(\"yellow\")\n",
    "            if s == \"Q\":\n",
    "                bg.color(\"brown\")\n",
    "            bg.goto(xoff + x * CELL_SIZE, yoff + y * CELL_SIZE)\n",
    "            bg.stamp()\n",
    "    xoff = round(xoff - CELL_SIZE / 2)\n",
    "    yoff = round(yoff - CELL_SIZE / 2)\n",
    "    bg.goto(xoff, yoff)\n",
    "    bg.pensize(2)\n",
    "    bg.color(\"black\")\n",
    "    bg.pendown()\n",
    "    bg.goto(xoff, yoff + GRID_HEIGHT * CELL_SIZE)\n",
    "    bg.goto(xoff + GRID_WIDTH * CELL_SIZE, yoff + GRID_HEIGHT * CELL_SIZE)\n",
    "    bg.goto(xoff + GRID_WIDTH * CELL_SIZE, yoff)\n",
    "    bg.goto(xoff, yoff)\n",
    "    bg.penup()\n",
    "\n",
    "\n",
    "def visualise(xoff: int, yoff: int) -> None:\n",
    "    \"\"\"Executes an XCSF exploit run through the maze and draws the path.\"\"\"\n",
    "    state: np.ndarray = maze.reset()\n",
    "    agent = Turtle(visible=True)\n",
    "    agent.shape(\"turtle\")\n",
    "    agent.color(\"green\")\n",
    "    agent.speed(\"fastest\")\n",
    "    agent.shapesize(0.5, 0.5)\n",
    "    agent.pensize(2)\n",
    "    agent.penup()\n",
    "    agent.goto(xoff + maze.x_pos * CELL_SIZE, yoff + maze.y_pos * CELL_SIZE)\n",
    "    agent.pendown()\n",
    "    agent.speed(\"normal\")\n",
    "    screen.tracer(True)\n",
    "    xcs.init_trial()\n",
    "    for _ in range(xcs.TELETRANSPORTATION):\n",
    "        xcs.init_step()\n",
    "        action = xcs.decision(state, False)\n",
    "        next_state, reward, done = maze.step(action)\n",
    "        agent.goto(xoff + maze.x_pos * CELL_SIZE, yoff + maze.y_pos * CELL_SIZE)\n",
    "        xcs.update(reward, done)\n",
    "        xcs.end_step()\n",
    "        if done:\n",
    "            break\n",
    "        state = next_state\n",
    "    xcs.end_trial()\n",
    "\n",
    "\n",
    "def draw_runs() -> None:\n",
    "    \"\"\"Draw some runs through the maze.\"\"\"\n",
    "    grid_xoff: Final[int] = GRID_WIDTH * CELL_SIZE\n",
    "    grid_yoff: Final[int] = GRID_HEIGHT * CELL_SIZE\n",
    "    for i in range(8):\n",
    "        for j in range(4):\n",
    "            xoff = i * (grid_xoff + CELL_SIZE)\n",
    "            yoff = j * (grid_yoff + CELL_SIZE)\n",
    "            draw_maze(xoff, yoff)\n",
    "            visualise(xoff, yoff)\n",
    "\n",
    "\n",
    "draw_runs()\n",
    "\n",
    "# save as png involves converting from ghostscript\n",
    "ps = screen.getcanvas().postscript(colormode=\"color\")\n",
    "im = Image.open(io.BytesIO(ps.encode(\"utf-8\")))\n",
    "im.save(\"maze_runs.png\", format=\"png\")\n",
    "im = Image.open(\"maze_runs.png\")\n",
    "\n",
    "input(\"Press enter to exit.\")\n",
    "\n",
    "# display final plot\n",
    "display(im)\n",
    "\n",
    "# close out turtle\n",
    "screen.bye()"
   ]
  },
  {
   "cell_type": "code",
   "execution_count": null,
   "metadata": {},
   "outputs": [],
   "source": []
  }
 ],
 "metadata": {
  "kernelspec": {
   "display_name": "Python 3 (ipykernel)",
   "language": "python",
   "name": "python3"
  },
  "language_info": {
   "codemirror_mode": {
    "name": "ipython",
    "version": 3
   },
   "file_extension": ".py",
   "mimetype": "text/x-python",
   "name": "python",
   "nbconvert_exporter": "python",
   "pygments_lexer": "ipython3",
   "version": "3.8.10"
  }
 },
 "nbformat": 4,
 "nbformat_minor": 4
}
