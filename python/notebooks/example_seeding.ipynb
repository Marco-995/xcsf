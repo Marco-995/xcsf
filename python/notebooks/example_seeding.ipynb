{
 "cells": [
  {
   "cell_type": "markdown",
   "metadata": {},
   "source": [
    "### This example demonstrates the insertion of a human-defined classifier into the XCSF population set."
   ]
  },
  {
   "cell_type": "code",
   "execution_count": 1,
   "metadata": {},
   "outputs": [],
   "source": [
    "import json\n",
    "import numpy as np\n",
    "from typing import Final\n",
    "\n",
    "import xcsf\n",
    "\n",
    "RANDOM_STATE = 1\n",
    "np.random.seed(RANDOM_STATE)"
   ]
  },
  {
   "cell_type": "markdown",
   "metadata": {},
   "source": [
    "### Initialise XCSF with an empty population"
   ]
  },
  {
   "cell_type": "code",
   "execution_count": 2,
   "metadata": {},
   "outputs": [
    {
     "name": "stdout",
     "output_type": "stream",
     "text": [
      "{\n",
      "    \"version\": \"1.3.0\",\n",
      "    \"x_dim\": 8,\n",
      "    \"y_dim\": 1,\n",
      "    \"n_actions\": 1,\n",
      "    \"omp_num_threads\": 8,\n",
      "    \"random_state\": 1,\n",
      "    \"pop_init\": false,\n",
      "    \"max_trials\": 1,\n",
      "    \"perf_trials\": 1000,\n",
      "    \"pop_size\": 2000,\n",
      "    \"loss_func\": \"mae\",\n",
      "    \"set_subsumption\": false,\n",
      "    \"theta_sub\": 100,\n",
      "    \"e0\": 0.01,\n",
      "    \"alpha\": 0.1,\n",
      "    \"nu\": 5,\n",
      "    \"beta\": 0.1,\n",
      "    \"delta\": 0.1,\n",
      "    \"theta_del\": 20,\n",
      "    \"init_fitness\": 0.01,\n",
      "    \"init_error\": 0,\n",
      "    \"m_probation\": 10000,\n",
      "    \"stateful\": true,\n",
      "    \"compaction\": false,\n",
      "    \"ea\": {\n",
      "        \"select_type\": \"roulette\",\n",
      "        \"theta_ea\": 50,\n",
      "        \"lambda\": 2,\n",
      "        \"p_crossover\": 0.8,\n",
      "        \"err_reduc\": 1,\n",
      "        \"fit_reduc\": 0.1,\n",
      "        \"subsumption\": false,\n",
      "        \"pred_reset\": false\n",
      "    },\n",
      "    \"condition\": {\n",
      "        \"type\": \"hyperrectangle_csr\"\n",
      "    },\n",
      "    \"prediction\": {\n",
      "        \"type\": \"nlms_linear\"\n",
      "    },\n",
      "    \"action\": {\n",
      "        \"type\": \"integer\"\n",
      "    }\n",
      "}\n"
     ]
    }
   ],
   "source": [
    "xcs = xcsf.XCS(\n",
    "    x_dim=8,\n",
    "    y_dim=1,\n",
    "    n_actions=1,\n",
    "    random_state=RANDOM_STATE,\n",
    "    max_trials=1,\n",
    "    pop_init=False,  # start with an empty population set\n",
    "    action={\"type\": \"integer\"},\n",
    "    condition={\"type\": \"hyperrectangle_csr\"},\n",
    "    prediction={\"type\": \"nlms_linear\"},\n",
    ")\n",
    "\n",
    "print(json.dumps(xcs.get_params(), indent=4))"
   ]
  },
  {
   "cell_type": "markdown",
   "metadata": {},
   "source": [
    "### Add a classifier to the population set"
   ]
  },
  {
   "cell_type": "code",
   "execution_count": 3,
   "metadata": {},
   "outputs": [],
   "source": [
    "classifier = {\n",
    "    \"error\": 10,  # each of these properties are optional\n",
    "    \"fitness\": 1.01,\n",
    "    \"accuracy\": 2,\n",
    "    \"set_size\": 100,\n",
    "    \"numerosity\": 2,\n",
    "    \"experience\": 3,\n",
    "    \"time\": 3,\n",
    "    \"samples_seen\": 2,\n",
    "    \"samples_matched\": 1,\n",
    "    \"condition\": {\n",
    "        \"type\": \"hyperrectangle_csr\",\n",
    "        \"center\": [0.1, 0.2, 0.3, 0.4, 0.5, 0.6, 0.7, 0.8],\n",
    "        \"spread\": [0.1, 0.2, 0.3, 0.4, 0.5, 0.6, 0.7, 0.8],\n",
    "        \"mutation\": [0.2],  # this parameter still self-adapts\n",
    "    },\n",
    "    \"action\": {\"type\": \"integer\", \"action\": 0, \"mutation\": [0.28]}\n",
    "    # prediction is absent and therefore initialised as normal\n",
    "}\n",
    "\n",
    "json_str = json.dumps(classifier)  # dictionary to JSON\n",
    "\n",
    "# The json_insert_cl() function can be used to insert a single new classifier\n",
    "# into the population. The new classifier is initialised with a random\n",
    "# condition, action, prediction, and then any supplied properties overwrite\n",
    "# these values. This means that all properties are optional. If the population\n",
    "# set numerosity exceeds xcs.POP_SIZE after inserting the rule, the standard\n",
    "# roulette wheel deletion mechanism will be invoked to maintain the population\n",
    "# limit.\n",
    "xcs.json_insert_cl(json_str)  # insert in [P]"
   ]
  },
  {
   "cell_type": "markdown",
   "metadata": {},
   "source": [
    "### Population before fitting"
   ]
  },
  {
   "cell_type": "code",
   "execution_count": 4,
   "metadata": {
    "scrolled": true
   },
   "outputs": [
    {
     "name": "stdout",
     "output_type": "stream",
     "text": [
      "{\n",
      "\t\"classifiers\":\t[{\n",
      "\t\t\t\"error\":\t10,\n",
      "\t\t\t\"fitness\":\t1.01,\n",
      "\t\t\t\"accuracy\":\t2.2204460492503131e-16,\n",
      "\t\t\t\"set_size\":\t100,\n",
      "\t\t\t\"numerosity\":\t2,\n",
      "\t\t\t\"experience\":\t3,\n",
      "\t\t\t\"time\":\t3,\n",
      "\t\t\t\"samples_seen\":\t2,\n",
      "\t\t\t\"samples_matched\":\t1,\n",
      "\t\t\t\"current_match\":\tfalse,\n",
      "\t\t\t\"current_action\":\t0,\n",
      "\t\t\t\"current_prediction\":\t[0],\n",
      "\t\t\t\"condition\":\t{\n",
      "\t\t\t\t\"type\":\t\"hyperrectangle_csr\",\n",
      "\t\t\t\t\"center\":\t[0.1, 0.2, 0.3, 0.4, 0.5, 0.6, 0.7, 0.8],\n",
      "\t\t\t\t\"spread\":\t[0.1, 0.2, 0.3, 0.4, 0.5, 0.6, 0.7, 0.8],\n",
      "\t\t\t\t\"mutation\":\t[0.2]\n",
      "\t\t\t},\n",
      "\t\t\t\"action\":\t{\n",
      "\t\t\t\t\"type\":\t\"integer\",\n",
      "\t\t\t\t\"action\":\t0,\n",
      "\t\t\t\t\"mutation\":\t[0.28]\n",
      "\t\t\t},\n",
      "\t\t\t\"prediction\":\t{\n",
      "\t\t\t\t\"type\":\t\"nlms_linear\",\n",
      "\t\t\t\t\"weights\":\t[1, 0, 0, 0, 0, 0, 0, 0, 0],\n",
      "\t\t\t\t\"eta\":\t0.010284224009722742,\n",
      "\t\t\t\t\"mutation\":\t[0.90494135470679848]\n",
      "\t\t\t}\n",
      "\t\t}]\n",
      "}\n"
     ]
    }
   ],
   "source": [
    "pop_str: str = xcs.json()\n",
    "print(pop_str)"
   ]
  },
  {
   "cell_type": "markdown",
   "metadata": {},
   "source": [
    "### Fit a new sample"
   ]
  },
  {
   "cell_type": "code",
   "execution_count": 5,
   "metadata": {},
   "outputs": [
    {
     "name": "stdout",
     "output_type": "stream",
     "text": [
      "time=00:00:00.000 trials=0 train=0.58298 pset=1 mset=0.1 mfrac=0.00\n",
      "time=00:00:00.000\n"
     ]
    },
    {
     "data": {
      "text/plain": [
       "<xcsf.xcsf.XCS at 0x7f34201a9a30>"
      ]
     },
     "execution_count": 5,
     "metadata": {},
     "output_type": "execute_result"
    }
   ],
   "source": [
    "X = np.asarray([0.1, 0.2, 0.3, 0.4, 0.5, 0.6, 0.7, 0.8]).reshape(1, -1)\n",
    "y = np.random.random(1)\n",
    "\n",
    "xcs.fit(X, y, warm_start=True)  # use existing population"
   ]
  },
  {
   "cell_type": "markdown",
   "metadata": {},
   "source": [
    "### Population after fitting"
   ]
  },
  {
   "cell_type": "code",
   "execution_count": 6,
   "metadata": {},
   "outputs": [
    {
     "name": "stdout",
     "output_type": "stream",
     "text": [
      "{\n",
      "\t\"classifiers\":\t[{\n",
      "\t\t\t\"error\":\t7.6457444988243566,\n",
      "\t\t\t\"fitness\":\t1.009,\n",
      "\t\t\t\"accuracy\":\t3.8273757017989739e-16,\n",
      "\t\t\t\"set_size\":\t75.5,\n",
      "\t\t\t\"numerosity\":\t2,\n",
      "\t\t\t\"experience\":\t4,\n",
      "\t\t\t\"time\":\t3,\n",
      "\t\t\t\"samples_seen\":\t3,\n",
      "\t\t\t\"samples_matched\":\t2,\n",
      "\t\t\t\"current_match\":\ttrue,\n",
      "\t\t\t\"current_action\":\t0,\n",
      "\t\t\t\"current_prediction\":\t[1],\n",
      "\t\t\t\"condition\":\t{\n",
      "\t\t\t\t\"type\":\t\"hyperrectangle_csr\",\n",
      "\t\t\t\t\"center\":\t[0.1, 0.2, 0.3, 0.4, 0.5, 0.6, 0.7, 0.8],\n",
      "\t\t\t\t\"spread\":\t[0.1, 0.2, 0.3, 0.4, 0.5, 0.6, 0.7, 0.8],\n",
      "\t\t\t\t\"mutation\":\t[0.2]\n",
      "\t\t\t},\n",
      "\t\t\t\"action\":\t{\n",
      "\t\t\t\t\"type\":\t\"integer\",\n",
      "\t\t\t\t\"action\":\t0,\n",
      "\t\t\t\t\"mutation\":\t[0.28]\n",
      "\t\t\t},\n",
      "\t\t\t\"prediction\":\t{\n",
      "\t\t\t\t\"type\":\t\"nlms_linear\",\n",
      "\t\t\t\t\"weights\":\t[0.99802780384987577, -0.00019721961501242832, -0.00039443923002485665, -0.000591658845037285, -0.0007888784600497133, -0.00098609807506214154, -0.00118331769007457, -0.001380537305086998, -0.0015777569200994266],\n",
      "\t\t\t\t\"eta\":\t0.010284224009722742,\n",
      "\t\t\t\t\"mutation\":\t[0.90494135470679848]\n",
      "\t\t\t}\n",
      "\t\t}]\n",
      "}\n"
     ]
    }
   ],
   "source": [
    "pop_str: str = xcs.json()\n",
    "print(pop_str)"
   ]
  }
 ],
 "metadata": {
  "kernelspec": {
   "display_name": "Python 3 (ipykernel)",
   "language": "python",
   "name": "python3"
  },
  "language_info": {
   "codemirror_mode": {
    "name": "ipython",
    "version": 3
   },
   "file_extension": ".py",
   "mimetype": "text/x-python",
   "name": "python",
   "nbconvert_exporter": "python",
   "pygments_lexer": "ipython3",
   "version": "3.10.6"
  }
 },
 "nbformat": 4,
 "nbformat_minor": 4
}
