{
 "cells": [
  {
   "cell_type": "markdown",
   "metadata": {},
   "source": [
    "### This example demonstrates the insertion of a human-defined classifier into the XCSF population set."
   ]
  },
  {
   "cell_type": "code",
   "execution_count": 1,
   "metadata": {},
   "outputs": [],
   "source": [
    "from __future__ import annotations\n",
    "\n",
    "import json\n",
    "from typing import Final\n",
    "\n",
    "import xcsf\n",
    "\n",
    "xcs = xcsf.XCS(8, 1, 2)  # (x_dim, y_dim, n_actions)\n",
    "xcs.condition(\"hyperrectangle\")\n",
    "xcs.action(\"integer\")\n",
    "xcs.prediction(\"nlms_linear\")\n",
    "\n",
    "classifier: Final[dict] = {\n",
    "    \"error\": 10,  # each of these properties are optional\n",
    "    \"fitness\": 1.01,\n",
    "    \"accuracy\": 2,\n",
    "    \"set_size\": 100,\n",
    "    \"numerosity\": 2,\n",
    "    \"experience\": 3,\n",
    "    \"time\": 3,\n",
    "    \"samples_seen\": 2,\n",
    "    \"samples_matched\": 1,\n",
    "    \"condition\": {\n",
    "        \"type\": \"hyperrectangle\",\n",
    "        \"center\": [0.1, 0.2, 0.3, 0.4, 0.5, 0.6, 0.7, 0.8],\n",
    "        \"spread\": [0.1, 0.2, 0.3, 0.4, 0.5, 0.6, 0.7, 0.8],\n",
    "        \"mutation\": [0.2],  # this parameter still self-adapts\n",
    "    },\n",
    "    \"action\": {\"type\": \"integer\", \"action\": 1, \"mutation\": [0.28]}\n",
    "    # prediction is absent and therefore initialised as normal\n",
    "}\n",
    "\n",
    "json_str: str = json.dumps(classifier)  # dictionary to JSON\n",
    "\n",
    "# The json_insert_cl() function can be used to insert a single new classifier\n",
    "# into the population. The new classifier is initialised with a random\n",
    "# condition, action, prediction, and then any supplied properties overwrite\n",
    "# these values. This means that all properties are optional. If the population\n",
    "# set numerosity exceeds xcs.POP_SIZE after inserting the rule, the standard\n",
    "# roulette wheel deletion mechanism will be invoked to maintain the population\n",
    "# limit.\n",
    "xcs.json_insert_cl(json_str)  # insert in [P]"
   ]
  },
  {
   "cell_type": "markdown",
   "metadata": {},
   "source": [
    "### Get the population as JSON and print"
   ]
  },
  {
   "cell_type": "code",
   "execution_count": 2,
   "metadata": {},
   "outputs": [
    {
     "name": "stdout",
     "output_type": "stream",
     "text": [
      "{\n",
      "\t\"classifiers\":\t[{\n",
      "\t\t\t\"error\":\t10,\n",
      "\t\t\t\"fitness\":\t1.01,\n",
      "\t\t\t\"accuracy\":\t2.2204460492503131e-16,\n",
      "\t\t\t\"set_size\":\t100,\n",
      "\t\t\t\"numerosity\":\t2,\n",
      "\t\t\t\"experience\":\t3,\n",
      "\t\t\t\"time\":\t3,\n",
      "\t\t\t\"samples_seen\":\t2,\n",
      "\t\t\t\"samples_matched\":\t1,\n",
      "\t\t\t\"current_match\":\tfalse,\n",
      "\t\t\t\"current_action\":\t0,\n",
      "\t\t\t\"current_prediction\":\t[0],\n",
      "\t\t\t\"condition\":\t{\n",
      "\t\t\t\t\"type\":\t\"hyperrectangle\",\n",
      "\t\t\t\t\"center\":\t[0.1, 0.2, 0.3, 0.4, 0.5, 0.6, 0.7, 0.8],\n",
      "\t\t\t\t\"spread\":\t[0.1, 0.2, 0.3, 0.4, 0.5, 0.6, 0.7, 0.8],\n",
      "\t\t\t\t\"mutation\":\t[0.2]\n",
      "\t\t\t},\n",
      "\t\t\t\"action\":\t{\n",
      "\t\t\t\t\"type\":\t\"integer\",\n",
      "\t\t\t\t\"action\":\t1,\n",
      "\t\t\t\t\"mutation\":\t[0.28]\n",
      "\t\t\t},\n",
      "\t\t\t\"prediction\":\t{\n",
      "\t\t\t\t\"type\":\t\"nlms_linear\",\n",
      "\t\t\t\t\"weights\":\t[1, 0, 0, 0, 0, 0, 0, 0, 0],\n",
      "\t\t\t\t\"eta\":\t0.0037507443022723646,\n",
      "\t\t\t\t\"mutation\":\t[0.60528699252168372]\n",
      "\t\t\t}\n",
      "\t\t}]\n",
      "}\n"
     ]
    }
   ],
   "source": [
    "pop_str: str = xcs.json(True, True, True)\n",
    "print(pop_str)"
   ]
  },
  {
   "cell_type": "code",
   "execution_count": null,
   "metadata": {},
   "outputs": [],
   "source": []
  }
 ],
 "metadata": {
  "kernelspec": {
   "display_name": "Python 3 (ipykernel)",
   "language": "python",
   "name": "python3"
  },
  "language_info": {
   "codemirror_mode": {
    "name": "ipython",
    "version": 3
   },
   "file_extension": ".py",
   "mimetype": "text/x-python",
   "name": "python",
   "nbconvert_exporter": "python",
   "pygments_lexer": "ipython3",
   "version": "3.8.10"
  }
 },
 "nbformat": 4,
 "nbformat_minor": 4
}
